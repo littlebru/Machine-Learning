{
  "nbformat": 4,
  "nbformat_minor": 0,
  "metadata": {
    "colab": {
      "name": "Programaria.ipynb",
      "provenance": [],
      "collapsed_sections": []
    },
    "kernelspec": {
      "name": "python3",
      "display_name": "Python 3"
    }
  },
  "cells": [
    {
      "cell_type": "code",
      "metadata": {
        "id": "ER-mq_faVJAl",
        "colab_type": "code",
        "outputId": "79830070-5a15-4a58-cb12-dfeead62f41b",
        "colab": {
          "base_uri": "https://localhost:8080/",
          "height": 74
        }
      },
      "source": [
        "# Importando bibliotecas\n",
        "import pandas as pd\n",
        "import matplotlib.pyplot as plt\n",
        "import seaborn as sns\n",
        "from plotnine import *"
      ],
      "execution_count": 0,
      "outputs": [
        {
          "output_type": "stream",
          "text": [
            "/usr/local/lib/python3.6/dist-packages/statsmodels/tools/_testing.py:19: FutureWarning: pandas.util.testing is deprecated. Use the functions in the public API at pandas.testing instead.\n",
            "  import pandas.util.testing as tm\n"
          ],
          "name": "stderr"
        }
      ]
    },
    {
      "cell_type": "code",
      "metadata": {
        "id": "KsLE5JB-Vuig",
        "colab_type": "code",
        "colab": {}
      },
      "source": [
        "# Import DataSet de filmes do MovieLens\n",
        "filmes = pd.read_csv('https://gist.githubusercontent.com/littlebru/f0c432ea5204715b37b85561e9afaeae/raw/b6dc7dc345320e53648ee71f3a9fee51fc1734fe/movie_metadata.csv')"
      ],
      "execution_count": 0,
      "outputs": []
    },
    {
      "cell_type": "code",
      "metadata": {
        "id": "2M2gNIv7WNn-",
        "colab_type": "code",
        "outputId": "dde3c271-528d-4fea-be71-8b283cee39b4",
        "colab": {
          "base_uri": "https://localhost:8080/",
          "height": 356
        }
      },
      "source": [
        "# Lendo as primeiras 5 linhas da tabela\n",
        "filmes.head()"
      ],
      "execution_count": 0,
      "outputs": [
        {
          "output_type": "execute_result",
          "data": {
            "text/html": [
              "<div>\n",
              "<style scoped>\n",
              "    .dataframe tbody tr th:only-of-type {\n",
              "        vertical-align: middle;\n",
              "    }\n",
              "\n",
              "    .dataframe tbody tr th {\n",
              "        vertical-align: top;\n",
              "    }\n",
              "\n",
              "    .dataframe thead th {\n",
              "        text-align: right;\n",
              "    }\n",
              "</style>\n",
              "<table border=\"1\" class=\"dataframe\">\n",
              "  <thead>\n",
              "    <tr style=\"text-align: right;\">\n",
              "      <th></th>\n",
              "      <th>color</th>\n",
              "      <th>director_name</th>\n",
              "      <th>num_critic_for_reviews</th>\n",
              "      <th>duration</th>\n",
              "      <th>director_facebook_likes</th>\n",
              "      <th>actor_3_facebook_likes</th>\n",
              "      <th>actor_2_name</th>\n",
              "      <th>actor_1_facebook_likes</th>\n",
              "      <th>gross</th>\n",
              "      <th>genres</th>\n",
              "      <th>actor_1_name</th>\n",
              "      <th>movie_title</th>\n",
              "      <th>num_voted_users</th>\n",
              "      <th>cast_total_facebook_likes</th>\n",
              "      <th>actor_3_name</th>\n",
              "      <th>facenumber_in_poster</th>\n",
              "      <th>plot_keywords</th>\n",
              "      <th>movie_imdb_link</th>\n",
              "      <th>num_user_for_reviews</th>\n",
              "      <th>language</th>\n",
              "      <th>country</th>\n",
              "      <th>content_rating</th>\n",
              "      <th>budget</th>\n",
              "      <th>title_year</th>\n",
              "      <th>actor_2_facebook_likes</th>\n",
              "      <th>imdb_score</th>\n",
              "      <th>aspect_ratio</th>\n",
              "      <th>movie_facebook_likes</th>\n",
              "    </tr>\n",
              "  </thead>\n",
              "  <tbody>\n",
              "    <tr>\n",
              "      <th>0</th>\n",
              "      <td>Color</td>\n",
              "      <td>James Cameron</td>\n",
              "      <td>723.0</td>\n",
              "      <td>178.0</td>\n",
              "      <td>0.0</td>\n",
              "      <td>855.0</td>\n",
              "      <td>Joel David Moore</td>\n",
              "      <td>1000</td>\n",
              "      <td>760505847.0</td>\n",
              "      <td>Action|Adventure|Fantasy|Sci-Fi</td>\n",
              "      <td>CCH Pounder</td>\n",
              "      <td>Avatar</td>\n",
              "      <td>886204</td>\n",
              "      <td>4834</td>\n",
              "      <td>Wes Studi</td>\n",
              "      <td>0.0</td>\n",
              "      <td>avatar|future|marine|native|paraplegic</td>\n",
              "      <td>http://www.imdb.com/title/tt0499549/?ref_=fn_t...</td>\n",
              "      <td>3054.0</td>\n",
              "      <td>English</td>\n",
              "      <td>USA</td>\n",
              "      <td>PG-13</td>\n",
              "      <td>237000000.0</td>\n",
              "      <td>2009.0</td>\n",
              "      <td>936.0</td>\n",
              "      <td>7.9</td>\n",
              "      <td>1.78</td>\n",
              "      <td>33000.0</td>\n",
              "    </tr>\n",
              "    <tr>\n",
              "      <th>1</th>\n",
              "      <td>Color</td>\n",
              "      <td>Gore Verbinski</td>\n",
              "      <td>302.0</td>\n",
              "      <td>169.0</td>\n",
              "      <td>563.0</td>\n",
              "      <td>1000.0</td>\n",
              "      <td>Orlando Bloom</td>\n",
              "      <td>40000</td>\n",
              "      <td>309404152.0</td>\n",
              "      <td>Action|Adventure|Fantasy</td>\n",
              "      <td>Johnny Depp</td>\n",
              "      <td>Pirates of the Caribbean: At World's End</td>\n",
              "      <td>471220</td>\n",
              "      <td>48350</td>\n",
              "      <td>Jack Davenport</td>\n",
              "      <td>0.0</td>\n",
              "      <td>goddess|marriage ceremony|marriage proposal|pi...</td>\n",
              "      <td>http://www.imdb.com/title/tt0449088/?ref_=fn_t...</td>\n",
              "      <td>1238.0</td>\n",
              "      <td>English</td>\n",
              "      <td>USA</td>\n",
              "      <td>PG-13</td>\n",
              "      <td>300000000.0</td>\n",
              "      <td>2007.0</td>\n",
              "      <td>5000.0</td>\n",
              "      <td>7.1</td>\n",
              "      <td>2.35</td>\n",
              "      <td>0.0</td>\n",
              "    </tr>\n",
              "    <tr>\n",
              "      <th>2</th>\n",
              "      <td>Color</td>\n",
              "      <td>Sam Mendes</td>\n",
              "      <td>602.0</td>\n",
              "      <td>148.0</td>\n",
              "      <td>0.0</td>\n",
              "      <td>161.0</td>\n",
              "      <td>Rory Kinnear</td>\n",
              "      <td>11000</td>\n",
              "      <td>200074175.0</td>\n",
              "      <td>Action|Adventure|Thriller</td>\n",
              "      <td>Christoph Waltz</td>\n",
              "      <td>Spectre</td>\n",
              "      <td>275868</td>\n",
              "      <td>11700</td>\n",
              "      <td>Stephanie Sigman</td>\n",
              "      <td>1.0</td>\n",
              "      <td>bomb|espionage|sequel|spy|terrorist</td>\n",
              "      <td>http://www.imdb.com/title/tt2379713/?ref_=fn_t...</td>\n",
              "      <td>994.0</td>\n",
              "      <td>English</td>\n",
              "      <td>UK</td>\n",
              "      <td>PG-13</td>\n",
              "      <td>245000000.0</td>\n",
              "      <td>2015.0</td>\n",
              "      <td>393.0</td>\n",
              "      <td>6.8</td>\n",
              "      <td>2.35</td>\n",
              "      <td>85000.0</td>\n",
              "    </tr>\n",
              "    <tr>\n",
              "      <th>3</th>\n",
              "      <td>Color</td>\n",
              "      <td>Christopher Nolan</td>\n",
              "      <td>813.0</td>\n",
              "      <td>164.0</td>\n",
              "      <td>22000.0</td>\n",
              "      <td>23000.0</td>\n",
              "      <td>Christian Bale</td>\n",
              "      <td>27000</td>\n",
              "      <td>448130642.0</td>\n",
              "      <td>Action|Thriller</td>\n",
              "      <td>Tom Hardy</td>\n",
              "      <td>The Dark Knight Rises</td>\n",
              "      <td>1144337</td>\n",
              "      <td>106759</td>\n",
              "      <td>Joseph Gordon-Levitt</td>\n",
              "      <td>0.0</td>\n",
              "      <td>deception|imprisonment|lawlessness|police offi...</td>\n",
              "      <td>http://www.imdb.com/title/tt1345836/?ref_=fn_t...</td>\n",
              "      <td>2701.0</td>\n",
              "      <td>English</td>\n",
              "      <td>USA</td>\n",
              "      <td>PG-13</td>\n",
              "      <td>250000000.0</td>\n",
              "      <td>2012.0</td>\n",
              "      <td>23000.0</td>\n",
              "      <td>8.5</td>\n",
              "      <td>2.35</td>\n",
              "      <td>164000.0</td>\n",
              "    </tr>\n",
              "    <tr>\n",
              "      <th>4</th>\n",
              "      <td>NaN</td>\n",
              "      <td>Doug Walker</td>\n",
              "      <td>NaN</td>\n",
              "      <td>NaN</td>\n",
              "      <td>131.0</td>\n",
              "      <td>NaN</td>\n",
              "      <td>Rob Walker</td>\n",
              "      <td>131</td>\n",
              "      <td>NaN</td>\n",
              "      <td>Documentary</td>\n",
              "      <td>Doug Walker</td>\n",
              "      <td>Star Wars: Episode VII - The Force Awakens    ...</td>\n",
              "      <td>8</td>\n",
              "      <td>143</td>\n",
              "      <td>NaN</td>\n",
              "      <td>0.0</td>\n",
              "      <td>NaN</td>\n",
              "      <td>http://www.imdb.com/title/tt5289954/?ref_=fn_t...</td>\n",
              "      <td>NaN</td>\n",
              "      <td>NaN</td>\n",
              "      <td>NaN</td>\n",
              "      <td>NaN</td>\n",
              "      <td>NaN</td>\n",
              "      <td>NaN</td>\n",
              "      <td>12.0</td>\n",
              "      <td>7.1</td>\n",
              "      <td>NaN</td>\n",
              "      <td>0.0</td>\n",
              "    </tr>\n",
              "  </tbody>\n",
              "</table>\n",
              "</div>"
            ],
            "text/plain": [
              "   color      director_name  ...  aspect_ratio  movie_facebook_likes\n",
              "0  Color      James Cameron  ...          1.78               33000.0\n",
              "1  Color     Gore Verbinski  ...          2.35                   0.0\n",
              "2  Color         Sam Mendes  ...          2.35               85000.0\n",
              "3  Color  Christopher Nolan  ...          2.35              164000.0\n",
              "4    NaN        Doug Walker  ...           NaN                   0.0\n",
              "\n",
              "[5 rows x 28 columns]"
            ]
          },
          "metadata": {
            "tags": []
          },
          "execution_count": 3
        }
      ]
    },
    {
      "cell_type": "code",
      "metadata": {
        "id": "divMH_b8WxaP",
        "colab_type": "code",
        "outputId": "bdcd19e5-72f5-4cee-a834-2b434f873851",
        "colab": {
          "base_uri": "https://localhost:8080/",
          "height": 35
        }
      },
      "source": [
        "# Descobrindo o formato da tabela (linhas/colunas)\n",
        "filmes.shape"
      ],
      "execution_count": 0,
      "outputs": [
        {
          "output_type": "execute_result",
          "data": {
            "text/plain": [
              "(3051, 28)"
            ]
          },
          "metadata": {
            "tags": []
          },
          "execution_count": 4
        }
      ]
    },
    {
      "cell_type": "code",
      "metadata": {
        "id": "UpBXHE4TYhSf",
        "colab_type": "code",
        "outputId": "0cd0e227-f4de-4386-df7c-5acbd4e51afb",
        "colab": {
          "base_uri": "https://localhost:8080/",
          "height": 545
        }
      },
      "source": [
        "# Descobrindo os tipos de dados existentes na tabela\n",
        "filmes.dtypes"
      ],
      "execution_count": 0,
      "outputs": [
        {
          "output_type": "execute_result",
          "data": {
            "text/plain": [
              "color                         object\n",
              "director_name                 object\n",
              "num_critic_for_reviews       float64\n",
              "duration                     float64\n",
              "director_facebook_likes      float64\n",
              "actor_3_facebook_likes       float64\n",
              "actor_2_name                  object\n",
              "actor_1_facebook_likes         int64\n",
              "gross                        float64\n",
              "genres                        object\n",
              "actor_1_name                  object\n",
              "movie_title                   object\n",
              "num_voted_users                int64\n",
              "cast_total_facebook_likes      int64\n",
              "actor_3_name                  object\n",
              "facenumber_in_poster         float64\n",
              "plot_keywords                 object\n",
              "movie_imdb_link               object\n",
              "num_user_for_reviews         float64\n",
              "language                      object\n",
              "country                       object\n",
              "content_rating                object\n",
              "budget                       float64\n",
              "title_year                   float64\n",
              "actor_2_facebook_likes       float64\n",
              "imdb_score                   float64\n",
              "aspect_ratio                 float64\n",
              "movie_facebook_likes         float64\n",
              "dtype: object"
            ]
          },
          "metadata": {
            "tags": []
          },
          "execution_count": 5
        }
      ]
    },
    {
      "cell_type": "code",
      "metadata": {
        "id": "CVYhgOGpYpAb",
        "colab_type": "code",
        "outputId": "512cc6a9-d4cc-49c7-8354-3f6aa88d7100",
        "colab": {
          "base_uri": "https://localhost:8080/",
          "height": 526
        }
      },
      "source": [
        "# Listando as colunas do dataFrame\n",
        "list(filmes.columns)"
      ],
      "execution_count": 0,
      "outputs": [
        {
          "output_type": "execute_result",
          "data": {
            "text/plain": [
              "['color',\n",
              " 'director_name',\n",
              " 'num_critic_for_reviews',\n",
              " 'duration',\n",
              " 'director_facebook_likes',\n",
              " 'actor_3_facebook_likes',\n",
              " 'actor_2_name',\n",
              " 'actor_1_facebook_likes',\n",
              " 'gross',\n",
              " 'genres',\n",
              " 'actor_1_name',\n",
              " 'movie_title',\n",
              " 'num_voted_users',\n",
              " 'cast_total_facebook_likes',\n",
              " 'actor_3_name',\n",
              " 'facenumber_in_poster',\n",
              " 'plot_keywords',\n",
              " 'movie_imdb_link',\n",
              " 'num_user_for_reviews',\n",
              " 'language',\n",
              " 'country',\n",
              " 'content_rating',\n",
              " 'budget',\n",
              " 'title_year',\n",
              " 'actor_2_facebook_likes',\n",
              " 'imdb_score',\n",
              " 'aspect_ratio',\n",
              " 'movie_facebook_likes']"
            ]
          },
          "metadata": {
            "tags": []
          },
          "execution_count": 6
        }
      ]
    },
    {
      "cell_type": "code",
      "metadata": {
        "id": "_QPIzBFvYy-g",
        "colab_type": "code",
        "colab": {}
      },
      "source": [
        "# Removendo colunas que não serão utilizadas para a análise\n",
        "# Definindo que quero remover as linhas do eixo 1 (axis = 1, inplace=True)\n",
        "\n",
        "filmes.drop('movie_imdb_link', axis= 1, inplace=True)"
      ],
      "execution_count": 0,
      "outputs": []
    },
    {
      "cell_type": "code",
      "metadata": {
        "id": "p3gI-7-iZjr0",
        "colab_type": "code",
        "outputId": "018c6640-3043-47ed-daee-591f052587ea",
        "colab": {
          "base_uri": "https://localhost:8080/",
          "height": 72
        }
      },
      "source": [
        "# Descobrindo quantos tipos existem na coluna cor e quais são eles\n",
        "filmes['color'].value_counts()"
      ],
      "execution_count": 0,
      "outputs": [
        {
          "output_type": "execute_result",
          "data": {
            "text/plain": [
              "Color               2960\n",
              " Black and White      84\n",
              "Name: color, dtype: int64"
            ]
          },
          "metadata": {
            "tags": []
          },
          "execution_count": 8
        }
      ]
    },
    {
      "cell_type": "code",
      "metadata": {
        "id": "fs98xujYaVn1",
        "colab_type": "code",
        "colab": {}
      },
      "source": [
        "# Removendo coluna 'color'\n",
        "filmes.drop('color', axis=1, inplace=True)"
      ],
      "execution_count": 0,
      "outputs": []
    },
    {
      "cell_type": "code",
      "metadata": {
        "id": "Cj0jG4XTat7O",
        "colab_type": "code",
        "outputId": "4bd9a3a7-f608-45c8-b206-a93e35698450",
        "colab": {
          "base_uri": "https://localhost:8080/",
          "height": 508
        }
      },
      "source": [
        "# Verificando se existem valores faltantes na tabela \n",
        "# (porque isso pode acarretar em problemas em análises futuras)\n",
        "filmes.isna().any()"
      ],
      "execution_count": 0,
      "outputs": [
        {
          "output_type": "execute_result",
          "data": {
            "text/plain": [
              "director_name                 True\n",
              "num_critic_for_reviews        True\n",
              "duration                      True\n",
              "director_facebook_likes       True\n",
              "actor_3_facebook_likes        True\n",
              "actor_2_name                  True\n",
              "actor_1_facebook_likes       False\n",
              "gross                         True\n",
              "genres                       False\n",
              "actor_1_name                 False\n",
              "movie_title                  False\n",
              "num_voted_users              False\n",
              "cast_total_facebook_likes    False\n",
              "actor_3_name                  True\n",
              "facenumber_in_poster          True\n",
              "plot_keywords                 True\n",
              "num_user_for_reviews          True\n",
              "language                      True\n",
              "country                       True\n",
              "content_rating                True\n",
              "budget                        True\n",
              "title_year                    True\n",
              "actor_2_facebook_likes        True\n",
              "imdb_score                    True\n",
              "aspect_ratio                  True\n",
              "movie_facebook_likes          True\n",
              "dtype: bool"
            ]
          },
          "metadata": {
            "tags": []
          },
          "execution_count": 10
        }
      ]
    },
    {
      "cell_type": "code",
      "metadata": {
        "id": "ZLNurj5jbOVh",
        "colab_type": "code",
        "outputId": "f4f205cd-fe89-451e-aaf6-7be306d05e75",
        "colab": {
          "base_uri": "https://localhost:8080/",
          "height": 508
        }
      },
      "source": [
        "# Verificando em quantos casos tem valores faltantes (somando quantos são vazios)\n",
        "filmes.isna().sum()"
      ],
      "execution_count": 0,
      "outputs": [
        {
          "output_type": "execute_result",
          "data": {
            "text/plain": [
              "director_name                 57\n",
              "num_critic_for_reviews        11\n",
              "duration                       4\n",
              "director_facebook_likes       57\n",
              "actor_3_facebook_likes         5\n",
              "actor_2_name                   3\n",
              "actor_1_facebook_likes         0\n",
              "gross                        217\n",
              "genres                         0\n",
              "actor_1_name                   0\n",
              "movie_title                    0\n",
              "num_voted_users                0\n",
              "cast_total_facebook_likes      0\n",
              "actor_3_name                   5\n",
              "facenumber_in_poster           4\n",
              "plot_keywords                 32\n",
              "num_user_for_reviews           9\n",
              "language                       4\n",
              "country                        4\n",
              "content_rating                61\n",
              "budget                       170\n",
              "title_year                    62\n",
              "actor_2_facebook_likes         4\n",
              "imdb_score                     1\n",
              "aspect_ratio                  56\n",
              "movie_facebook_likes           1\n",
              "dtype: int64"
            ]
          },
          "metadata": {
            "tags": []
          },
          "execution_count": 11
        }
      ]
    },
    {
      "cell_type": "code",
      "metadata": {
        "id": "C33iFYdfbg9t",
        "colab_type": "code",
        "colab": {}
      },
      "source": [
        "# Removendo colunas que tem um numero menor de dados presentes\n",
        "filmes.dropna(axis=0, subset=['director_name', 'director_facebook_likes',\n",
        "                               'actor_1_facebook_likes', 'actor_2_facebook_likes',\n",
        "                               'actor_3_facebook_likes', 'movie_facebook_likes', 'facenumber_in_poster',\n",
        "                               'actor_3_name','actor_2_name'], inplace=True)\n"
      ],
      "execution_count": 0,
      "outputs": []
    },
    {
      "cell_type": "code",
      "metadata": {
        "id": "_tEjT4uJdGUY",
        "colab_type": "code",
        "outputId": "a54c3859-4452-43e5-e091-5a6ad953be32",
        "colab": {
          "base_uri": "https://localhost:8080/",
          "height": 35
        }
      },
      "source": [
        "# Verificando os dados existentes na tabela\n",
        "# Após a exclusão das colunas\n",
        "filmes.shape"
      ],
      "execution_count": 0,
      "outputs": [
        {
          "output_type": "execute_result",
          "data": {
            "text/plain": [
              "(2986, 26)"
            ]
          },
          "metadata": {
            "tags": []
          },
          "execution_count": 13
        }
      ]
    },
    {
      "cell_type": "code",
      "metadata": {
        "id": "Uz91brIWd2f0",
        "colab_type": "code",
        "outputId": "e80d5022-8049-4b92-895c-96eede50adc9",
        "colab": {
          "base_uri": "https://localhost:8080/",
          "height": 235
        }
      },
      "source": [
        "# Verificando a classificação indicativa dos filmes e quantas existem na tabela\n",
        "filmes['content_rating'].value_counts()"
      ],
      "execution_count": 0,
      "outputs": [
        {
          "output_type": "execute_result",
          "data": {
            "text/plain": [
              "R            1154\n",
              "PG-13        1148\n",
              "PG            530\n",
              "G              84\n",
              "Not Rated      14\n",
              "Unrated         8\n",
              "Approved        5\n",
              "TV-14           2\n",
              "X               1\n",
              "NC-17           1\n",
              "GP              1\n",
              "Name: content_rating, dtype: int64"
            ]
          },
          "metadata": {
            "tags": []
          },
          "execution_count": 14
        }
      ]
    },
    {
      "cell_type": "code",
      "metadata": {
        "id": "Lb03-VW3fqms",
        "colab_type": "code",
        "colab": {}
      },
      "source": [
        "# Renomeando linhas vazias por 'Sem Classificação'\n",
        "filmes['content_rating'].fillna('Sem Classificação', inplace=True)"
      ],
      "execution_count": 0,
      "outputs": []
    },
    {
      "cell_type": "code",
      "metadata": {
        "id": "GQ3tX3GwgUVQ",
        "colab_type": "code",
        "outputId": "40246ecd-e1fd-403a-eb31-7cd579c56151",
        "colab": {
          "base_uri": "https://localhost:8080/",
          "height": 308
        }
      },
      "source": [
        "# Descobrindo os valores de tamanho da tela dos filmes\n",
        "filmes['aspect_ratio'].value_counts()"
      ],
      "execution_count": 0,
      "outputs": [
        {
          "output_type": "execute_result",
          "data": {
            "text/plain": [
              "2.35    1759\n",
              "1.85    1087\n",
              "1.37      21\n",
              "1.78      21\n",
              "1.66      17\n",
              "1.33      12\n",
              "2.20       9\n",
              "2.39       9\n",
              "2.00       3\n",
              "2.76       2\n",
              "2.40       2\n",
              "2.24       1\n",
              "1.18       1\n",
              "1.77       1\n",
              "1.50       1\n",
              "Name: aspect_ratio, dtype: int64"
            ]
          },
          "metadata": {
            "tags": []
          },
          "execution_count": 16
        }
      ]
    },
    {
      "cell_type": "code",
      "metadata": {
        "id": "Ce3GZ9ibgwhf",
        "colab_type": "code",
        "colab": {}
      },
      "source": [
        "# Utilizando a mediana da quantidade de tamanho de telas em valores vazios\n",
        "filmes['aspect_ratio'].fillna(filmes['aspect_ratio'].median(), inplace=True)"
      ],
      "execution_count": 0,
      "outputs": []
    },
    {
      "cell_type": "code",
      "metadata": {
        "id": "_nxG7ixPhORU",
        "colab_type": "code",
        "colab": {}
      },
      "source": [
        "# Utilizando a mediana para substituir valores vazios do orçamento do filme\n",
        "filmes['budget'].fillna(filmes['budget'].median(), inplace=True)"
      ],
      "execution_count": 0,
      "outputs": []
    },
    {
      "cell_type": "code",
      "metadata": {
        "id": "vdMER8Thh87Y",
        "colab_type": "code",
        "colab": {}
      },
      "source": [
        "# Utilizando a mediana para substituir valores vazios do faturamento do filme\n",
        "filmes['gross'].fillna(filmes['gross'].median(), inplace=True)"
      ],
      "execution_count": 0,
      "outputs": []
    },
    {
      "cell_type": "markdown",
      "metadata": {
        "id": "u-RnQViwirc6",
        "colab_type": "text"
      },
      "source": [
        "------"
      ]
    },
    {
      "cell_type": "markdown",
      "metadata": {
        "id": "3YC_C0pdiH4y",
        "colab_type": "text"
      },
      "source": [
        "# Desafio 01\n",
        "Teste nessas duas ultimas colunas acima (Faturamento e Orçamento), trocar os valores vazios pela média ao invés da mediana"
      ]
    },
    {
      "cell_type": "code",
      "metadata": {
        "id": "EDTfqhpjiFXr",
        "colab_type": "code",
        "colab": {}
      },
      "source": [
        "# Utilizando a media para substituir valores vazios do orçamento do filme\n",
        "filmes['budget'].fillna(filmes['budget'].mean(), inplace=True)"
      ],
      "execution_count": 0,
      "outputs": []
    },
    {
      "cell_type": "code",
      "metadata": {
        "id": "YXGdN2TMib6Q",
        "colab_type": "code",
        "colab": {}
      },
      "source": [
        "# Utilizando a mediana para substituir valores vazios do faturamento do filme\n",
        "filmes['gross'].fillna(filmes['gross'].mean(), inplace=True)"
      ],
      "execution_count": 0,
      "outputs": []
    },
    {
      "cell_type": "markdown",
      "metadata": {
        "colab_type": "text",
        "id": "7TwngE7tixNO"
      },
      "source": [
        "------"
      ]
    },
    {
      "cell_type": "code",
      "metadata": {
        "id": "JaI8sZ-JmNJE",
        "colab_type": "code",
        "colab": {}
      },
      "source": [
        "# Substituindo linhas vazias pela mediana de numero de usuarios por revisão\n",
        "filmes['num_user_for_reviews'].fillna(filmes['num_user_for_reviews'].median(), inplace=True)"
      ],
      "execution_count": 0,
      "outputs": []
    },
    {
      "cell_type": "code",
      "metadata": {
        "id": "AXeIjfiUi-NU",
        "colab_type": "code",
        "colab": {}
      },
      "source": [
        "# Substituindo valores vazios da coluna de criticas, pela mediana\n",
        "filmes['num_critic_for_reviews'].fillna(filmes['num_critic_for_reviews'].median(), inplace=True)"
      ],
      "execution_count": 0,
      "outputs": []
    },
    {
      "cell_type": "code",
      "metadata": {
        "id": "8rNBoz5bjW_c",
        "colab_type": "code",
        "colab": {}
      },
      "source": [
        "# Substituindo valores vazios pelo texto 'vazio' na coluna de palavras chaves\n",
        "filmes['plot_keywords'].fillna('vazio', inplace=True)"
      ],
      "execution_count": 0,
      "outputs": []
    },
    {
      "cell_type": "code",
      "metadata": {
        "id": "1qt3OV1Cju2C",
        "colab_type": "code",
        "outputId": "2ecf626f-a35c-4295-85aa-68c301204a96",
        "colab": {
          "base_uri": "https://localhost:8080/",
          "height": 308
        }
      },
      "source": [
        "# Descobrindo valores da coluna de 'ano de publicação?' de cada filme (pegando os 15 primeiros)\n",
        "filmes['title_year'].value_counts().head(15)"
      ],
      "execution_count": 0,
      "outputs": [
        {
          "output_type": "execute_result",
          "data": {
            "text/plain": [
              "2009.0    157\n",
              "2008.0    156\n",
              "2006.0    149\n",
              "2004.0    142\n",
              "2002.0    139\n",
              "2005.0    139\n",
              "2010.0    139\n",
              "2001.0    135\n",
              "2011.0    135\n",
              "2013.0    133\n",
              "2014.0    132\n",
              "2012.0    129\n",
              "2007.0    128\n",
              "2015.0    122\n",
              "2000.0    118\n",
              "Name: title_year, dtype: int64"
            ]
          },
          "metadata": {
            "tags": []
          },
          "execution_count": 25
        }
      ]
    },
    {
      "cell_type": "code",
      "metadata": {
        "id": "RCnHdTrcj1t8",
        "colab_type": "code",
        "colab": {}
      },
      "source": [
        "# Substituindo valores vazios por '--' na coluna de 'ano_de_divulgação?'\n",
        "filmes['title_year'].fillna('--', inplace=True)"
      ],
      "execution_count": 0,
      "outputs": []
    },
    {
      "cell_type": "code",
      "metadata": {
        "id": "6oHgGd3Xmf8D",
        "colab_type": "code",
        "colab": {}
      },
      "source": [
        "# Substituindo valores vazios da coluna 'duration' pela mediana de tempo dos filmes\n",
        "filmes['duration'].fillna(filmes['duration'].median(), inplace=True)"
      ],
      "execution_count": 0,
      "outputs": []
    },
    {
      "cell_type": "code",
      "metadata": {
        "id": "04zZqj4Vipch",
        "colab_type": "code",
        "outputId": "3cd97325-1ad6-49b1-9120-f8a6a3a54b1e",
        "colab": {
          "base_uri": "https://localhost:8080/",
          "height": 508
        }
      },
      "source": [
        "filmes.isna().sum()"
      ],
      "execution_count": 0,
      "outputs": [
        {
          "output_type": "execute_result",
          "data": {
            "text/plain": [
              "director_name                0\n",
              "num_critic_for_reviews       0\n",
              "duration                     0\n",
              "director_facebook_likes      0\n",
              "actor_3_facebook_likes       0\n",
              "actor_2_name                 0\n",
              "actor_1_facebook_likes       0\n",
              "gross                        0\n",
              "genres                       0\n",
              "actor_1_name                 0\n",
              "movie_title                  0\n",
              "num_voted_users              0\n",
              "cast_total_facebook_likes    0\n",
              "actor_3_name                 0\n",
              "facenumber_in_poster         0\n",
              "plot_keywords                0\n",
              "num_user_for_reviews         0\n",
              "language                     0\n",
              "country                      0\n",
              "content_rating               0\n",
              "budget                       0\n",
              "title_year                   0\n",
              "actor_2_facebook_likes       0\n",
              "imdb_score                   0\n",
              "aspect_ratio                 0\n",
              "movie_facebook_likes         0\n",
              "dtype: int64"
            ]
          },
          "metadata": {
            "tags": []
          },
          "execution_count": 28
        }
      ]
    },
    {
      "cell_type": "code",
      "metadata": {
        "id": "1oJ561ZVlS_T",
        "colab_type": "code",
        "outputId": "a4d40fd0-1ec6-4c86-87ed-49e03de7c3ac",
        "colab": {
          "base_uri": "https://localhost:8080/",
          "height": 35
        }
      },
      "source": [
        "# Verificando se existem dados duplicados e quantos são\n",
        "filmes.duplicated().sum()"
      ],
      "execution_count": 0,
      "outputs": [
        {
          "output_type": "execute_result",
          "data": {
            "text/plain": [
              "24"
            ]
          },
          "metadata": {
            "tags": []
          },
          "execution_count": 29
        }
      ]
    },
    {
      "cell_type": "code",
      "metadata": {
        "id": "Z6krqyQNnXTD",
        "colab_type": "code",
        "colab": {}
      },
      "source": [
        "# Removendo os 24 dados duplicados da tabela\n",
        "filmes.drop_duplicates(inplace=True)"
      ],
      "execution_count": 0,
      "outputs": []
    },
    {
      "cell_type": "code",
      "metadata": {
        "id": "6p-4N7_WniGZ",
        "colab_type": "code",
        "outputId": "e61dda06-080a-4335-e67a-0f1e3bc8dedd",
        "colab": {
          "base_uri": "https://localhost:8080/",
          "height": 35
        }
      },
      "source": [
        "# Verificando a quantidade de dados no DataFrame\n",
        "filmes.shape"
      ],
      "execution_count": 0,
      "outputs": [
        {
          "output_type": "execute_result",
          "data": {
            "text/plain": [
              "(2962, 26)"
            ]
          },
          "metadata": {
            "tags": []
          },
          "execution_count": 31
        }
      ]
    },
    {
      "cell_type": "code",
      "metadata": {
        "id": "xJN63IHqnnBq",
        "colab_type": "code",
        "outputId": "ad297374-5416-412e-e1a8-8746b3666e3b",
        "colab": {
          "base_uri": "https://localhost:8080/",
          "height": 545
        }
      },
      "source": [
        "# Verificando dados na coluna linguas\n",
        "filmes['language'].value_counts()"
      ],
      "execution_count": 0,
      "outputs": [
        {
          "output_type": "execute_result",
          "data": {
            "text/plain": [
              "English       2854\n",
              "French          27\n",
              "Mandarin        21\n",
              "Japanese        10\n",
              "Spanish          8\n",
              "German           6\n",
              "Russian          6\n",
              "Cantonese        5\n",
              "Korean           3\n",
              "Italian          2\n",
              "Swedish          2\n",
              "Chinese          2\n",
              "Dari             1\n",
              "Telugu           1\n",
              "Thai             1\n",
              "Dutch            1\n",
              "Maya             1\n",
              "Portuguese       1\n",
              "Hebrew           1\n",
              "Filipino         1\n",
              "Mongolian        1\n",
              "Bosnian          1\n",
              "Aboriginal       1\n",
              "Hindi            1\n",
              "None             1\n",
              "Aramaic          1\n",
              "Hungarian        1\n",
              "Kazakh           1\n",
              "Name: language, dtype: int64"
            ]
          },
          "metadata": {
            "tags": []
          },
          "execution_count": 32
        }
      ]
    },
    {
      "cell_type": "code",
      "metadata": {
        "id": "73_mztaVnzBM",
        "colab_type": "code",
        "colab": {}
      },
      "source": [
        "# Removendo coluna linguagem pois os dados não são muito relevantes\n",
        "filmes.drop('language', axis=1, inplace=True)"
      ],
      "execution_count": 0,
      "outputs": []
    },
    {
      "cell_type": "code",
      "metadata": {
        "id": "h9uDVCe6oP2S",
        "colab_type": "code",
        "outputId": "6a15be33-5d6f-4766-f824-d596302ad3c8",
        "colab": {
          "base_uri": "https://localhost:8080/",
          "height": 817
        }
      },
      "source": [
        "# Verificando dados na coluna países\n",
        "filmes['country'].value_counts()"
      ],
      "execution_count": 0,
      "outputs": [
        {
          "output_type": "execute_result",
          "data": {
            "text/plain": [
              "USA               2356\n",
              "UK                 228\n",
              "France              94\n",
              "Germany             66\n",
              "Canada              46\n",
              "Australia           28\n",
              "China               23\n",
              "Spain               15\n",
              "Japan               15\n",
              "Hong Kong           10\n",
              "Italy                8\n",
              "South Korea          8\n",
              "Russia               7\n",
              "New Zealand          6\n",
              "Ireland              5\n",
              "South Africa         5\n",
              "Belgium              4\n",
              "India                3\n",
              "Mexico               3\n",
              "Denmark              3\n",
              "Taiwan               2\n",
              "West Germany         2\n",
              "Netherlands          2\n",
              "Czech Republic       2\n",
              "Sweden               2\n",
              "Hungary              2\n",
              "Chile                1\n",
              "Greece               1\n",
              "Iran                 1\n",
              "Slovakia             1\n",
              "Soviet Union         1\n",
              "Bulgaria             1\n",
              "Switzerland          1\n",
              "Cambodia             1\n",
              "New Line             1\n",
              "Peru                 1\n",
              "Georgia              1\n",
              "Libya                1\n",
              "Aruba                1\n",
              "Romania              1\n",
              "Thailand             1\n",
              "Official site        1\n",
              "Panama               1\n",
              "Name: country, dtype: int64"
            ]
          },
          "metadata": {
            "tags": []
          },
          "execution_count": 34
        }
      ]
    },
    {
      "cell_type": "code",
      "metadata": {
        "id": "osXHrJ0xoWaP",
        "colab_type": "code",
        "colab": {}
      },
      "source": [
        "# Removendo coluna Países pois os dados são irrelevantes\n",
        "filmes.drop('country', axis=1, inplace=True)"
      ],
      "execution_count": 0,
      "outputs": []
    },
    {
      "cell_type": "code",
      "metadata": {
        "id": "Juf0smS_pKoE",
        "colab_type": "code",
        "colab": {}
      },
      "source": [
        "# Adicionando a coluna Lucro na tabela 'Profit'\n",
        "filmes['Profit'] = filmes['budget'].sub(filmes['gross'], axis=0)"
      ],
      "execution_count": 0,
      "outputs": []
    },
    {
      "cell_type": "code",
      "metadata": {
        "id": "UpLmElsApBHv",
        "colab_type": "code",
        "outputId": "0a396c55-23ff-4994-d913-7cd0d56c0381",
        "colab": {
          "base_uri": "https://localhost:8080/",
          "height": 322
        }
      },
      "source": [
        "filmes.head()"
      ],
      "execution_count": 0,
      "outputs": [
        {
          "output_type": "execute_result",
          "data": {
            "text/html": [
              "<div>\n",
              "<style scoped>\n",
              "    .dataframe tbody tr th:only-of-type {\n",
              "        vertical-align: middle;\n",
              "    }\n",
              "\n",
              "    .dataframe tbody tr th {\n",
              "        vertical-align: top;\n",
              "    }\n",
              "\n",
              "    .dataframe thead th {\n",
              "        text-align: right;\n",
              "    }\n",
              "</style>\n",
              "<table border=\"1\" class=\"dataframe\">\n",
              "  <thead>\n",
              "    <tr style=\"text-align: right;\">\n",
              "      <th></th>\n",
              "      <th>director_name</th>\n",
              "      <th>num_critic_for_reviews</th>\n",
              "      <th>duration</th>\n",
              "      <th>director_facebook_likes</th>\n",
              "      <th>actor_3_facebook_likes</th>\n",
              "      <th>actor_2_name</th>\n",
              "      <th>actor_1_facebook_likes</th>\n",
              "      <th>gross</th>\n",
              "      <th>genres</th>\n",
              "      <th>actor_1_name</th>\n",
              "      <th>movie_title</th>\n",
              "      <th>num_voted_users</th>\n",
              "      <th>cast_total_facebook_likes</th>\n",
              "      <th>actor_3_name</th>\n",
              "      <th>facenumber_in_poster</th>\n",
              "      <th>plot_keywords</th>\n",
              "      <th>num_user_for_reviews</th>\n",
              "      <th>content_rating</th>\n",
              "      <th>budget</th>\n",
              "      <th>title_year</th>\n",
              "      <th>actor_2_facebook_likes</th>\n",
              "      <th>imdb_score</th>\n",
              "      <th>aspect_ratio</th>\n",
              "      <th>movie_facebook_likes</th>\n",
              "      <th>Profit</th>\n",
              "    </tr>\n",
              "  </thead>\n",
              "  <tbody>\n",
              "    <tr>\n",
              "      <th>0</th>\n",
              "      <td>James Cameron</td>\n",
              "      <td>723.0</td>\n",
              "      <td>178.0</td>\n",
              "      <td>0.0</td>\n",
              "      <td>855.0</td>\n",
              "      <td>Joel David Moore</td>\n",
              "      <td>1000</td>\n",
              "      <td>760505847.0</td>\n",
              "      <td>Action|Adventure|Fantasy|Sci-Fi</td>\n",
              "      <td>CCH Pounder</td>\n",
              "      <td>Avatar</td>\n",
              "      <td>886204</td>\n",
              "      <td>4834</td>\n",
              "      <td>Wes Studi</td>\n",
              "      <td>0.0</td>\n",
              "      <td>avatar|future|marine|native|paraplegic</td>\n",
              "      <td>3054.0</td>\n",
              "      <td>PG-13</td>\n",
              "      <td>237000000.0</td>\n",
              "      <td>2009</td>\n",
              "      <td>936.0</td>\n",
              "      <td>7.9</td>\n",
              "      <td>1.78</td>\n",
              "      <td>33000.0</td>\n",
              "      <td>-523505847.0</td>\n",
              "    </tr>\n",
              "    <tr>\n",
              "      <th>1</th>\n",
              "      <td>Gore Verbinski</td>\n",
              "      <td>302.0</td>\n",
              "      <td>169.0</td>\n",
              "      <td>563.0</td>\n",
              "      <td>1000.0</td>\n",
              "      <td>Orlando Bloom</td>\n",
              "      <td>40000</td>\n",
              "      <td>309404152.0</td>\n",
              "      <td>Action|Adventure|Fantasy</td>\n",
              "      <td>Johnny Depp</td>\n",
              "      <td>Pirates of the Caribbean: At World's End</td>\n",
              "      <td>471220</td>\n",
              "      <td>48350</td>\n",
              "      <td>Jack Davenport</td>\n",
              "      <td>0.0</td>\n",
              "      <td>goddess|marriage ceremony|marriage proposal|pi...</td>\n",
              "      <td>1238.0</td>\n",
              "      <td>PG-13</td>\n",
              "      <td>300000000.0</td>\n",
              "      <td>2007</td>\n",
              "      <td>5000.0</td>\n",
              "      <td>7.1</td>\n",
              "      <td>2.35</td>\n",
              "      <td>0.0</td>\n",
              "      <td>-9404152.0</td>\n",
              "    </tr>\n",
              "    <tr>\n",
              "      <th>2</th>\n",
              "      <td>Sam Mendes</td>\n",
              "      <td>602.0</td>\n",
              "      <td>148.0</td>\n",
              "      <td>0.0</td>\n",
              "      <td>161.0</td>\n",
              "      <td>Rory Kinnear</td>\n",
              "      <td>11000</td>\n",
              "      <td>200074175.0</td>\n",
              "      <td>Action|Adventure|Thriller</td>\n",
              "      <td>Christoph Waltz</td>\n",
              "      <td>Spectre</td>\n",
              "      <td>275868</td>\n",
              "      <td>11700</td>\n",
              "      <td>Stephanie Sigman</td>\n",
              "      <td>1.0</td>\n",
              "      <td>bomb|espionage|sequel|spy|terrorist</td>\n",
              "      <td>994.0</td>\n",
              "      <td>PG-13</td>\n",
              "      <td>245000000.0</td>\n",
              "      <td>2015</td>\n",
              "      <td>393.0</td>\n",
              "      <td>6.8</td>\n",
              "      <td>2.35</td>\n",
              "      <td>85000.0</td>\n",
              "      <td>44925825.0</td>\n",
              "    </tr>\n",
              "    <tr>\n",
              "      <th>3</th>\n",
              "      <td>Christopher Nolan</td>\n",
              "      <td>813.0</td>\n",
              "      <td>164.0</td>\n",
              "      <td>22000.0</td>\n",
              "      <td>23000.0</td>\n",
              "      <td>Christian Bale</td>\n",
              "      <td>27000</td>\n",
              "      <td>448130642.0</td>\n",
              "      <td>Action|Thriller</td>\n",
              "      <td>Tom Hardy</td>\n",
              "      <td>The Dark Knight Rises</td>\n",
              "      <td>1144337</td>\n",
              "      <td>106759</td>\n",
              "      <td>Joseph Gordon-Levitt</td>\n",
              "      <td>0.0</td>\n",
              "      <td>deception|imprisonment|lawlessness|police offi...</td>\n",
              "      <td>2701.0</td>\n",
              "      <td>PG-13</td>\n",
              "      <td>250000000.0</td>\n",
              "      <td>2012</td>\n",
              "      <td>23000.0</td>\n",
              "      <td>8.5</td>\n",
              "      <td>2.35</td>\n",
              "      <td>164000.0</td>\n",
              "      <td>-198130642.0</td>\n",
              "    </tr>\n",
              "    <tr>\n",
              "      <th>5</th>\n",
              "      <td>Andrew Stanton</td>\n",
              "      <td>462.0</td>\n",
              "      <td>132.0</td>\n",
              "      <td>475.0</td>\n",
              "      <td>530.0</td>\n",
              "      <td>Samantha Morton</td>\n",
              "      <td>640</td>\n",
              "      <td>73058679.0</td>\n",
              "      <td>Action|Adventure|Sci-Fi</td>\n",
              "      <td>Daryl Sabara</td>\n",
              "      <td>John Carter</td>\n",
              "      <td>212204</td>\n",
              "      <td>1873</td>\n",
              "      <td>Polly Walker</td>\n",
              "      <td>1.0</td>\n",
              "      <td>alien|american civil war|male nipple|mars|prin...</td>\n",
              "      <td>738.0</td>\n",
              "      <td>PG-13</td>\n",
              "      <td>263700000.0</td>\n",
              "      <td>2012</td>\n",
              "      <td>632.0</td>\n",
              "      <td>6.6</td>\n",
              "      <td>2.35</td>\n",
              "      <td>24000.0</td>\n",
              "      <td>190641321.0</td>\n",
              "    </tr>\n",
              "  </tbody>\n",
              "</table>\n",
              "</div>"
            ],
            "text/plain": [
              "       director_name  num_critic_for_reviews  ...  movie_facebook_likes       Profit\n",
              "0      James Cameron                   723.0  ...               33000.0 -523505847.0\n",
              "1     Gore Verbinski                   302.0  ...                   0.0   -9404152.0\n",
              "2         Sam Mendes                   602.0  ...               85000.0   44925825.0\n",
              "3  Christopher Nolan                   813.0  ...              164000.0 -198130642.0\n",
              "5     Andrew Stanton                   462.0  ...               24000.0  190641321.0\n",
              "\n",
              "[5 rows x 25 columns]"
            ]
          },
          "metadata": {
            "tags": []
          },
          "execution_count": 37
        }
      ]
    },
    {
      "cell_type": "code",
      "metadata": {
        "id": "hjYJiD9LppPp",
        "colab_type": "code",
        "colab": {}
      },
      "source": [
        "# Adicionando coluna de Percentual de Lucro\n",
        "filmes['Profit_Percentage'] = (filmes['Profit']/filmes['gross'])*100"
      ],
      "execution_count": 0,
      "outputs": []
    },
    {
      "cell_type": "code",
      "metadata": {
        "id": "impG6S3vp_Fs",
        "colab_type": "code",
        "outputId": "ac78fcae-efdd-4509-c1f3-ff4028f677b7",
        "colab": {
          "base_uri": "https://localhost:8080/",
          "height": 322
        }
      },
      "source": [
        "filmes.head()"
      ],
      "execution_count": 0,
      "outputs": [
        {
          "output_type": "execute_result",
          "data": {
            "text/html": [
              "<div>\n",
              "<style scoped>\n",
              "    .dataframe tbody tr th:only-of-type {\n",
              "        vertical-align: middle;\n",
              "    }\n",
              "\n",
              "    .dataframe tbody tr th {\n",
              "        vertical-align: top;\n",
              "    }\n",
              "\n",
              "    .dataframe thead th {\n",
              "        text-align: right;\n",
              "    }\n",
              "</style>\n",
              "<table border=\"1\" class=\"dataframe\">\n",
              "  <thead>\n",
              "    <tr style=\"text-align: right;\">\n",
              "      <th></th>\n",
              "      <th>director_name</th>\n",
              "      <th>num_critic_for_reviews</th>\n",
              "      <th>duration</th>\n",
              "      <th>director_facebook_likes</th>\n",
              "      <th>actor_3_facebook_likes</th>\n",
              "      <th>actor_2_name</th>\n",
              "      <th>actor_1_facebook_likes</th>\n",
              "      <th>gross</th>\n",
              "      <th>genres</th>\n",
              "      <th>actor_1_name</th>\n",
              "      <th>movie_title</th>\n",
              "      <th>num_voted_users</th>\n",
              "      <th>cast_total_facebook_likes</th>\n",
              "      <th>actor_3_name</th>\n",
              "      <th>facenumber_in_poster</th>\n",
              "      <th>plot_keywords</th>\n",
              "      <th>num_user_for_reviews</th>\n",
              "      <th>content_rating</th>\n",
              "      <th>budget</th>\n",
              "      <th>title_year</th>\n",
              "      <th>actor_2_facebook_likes</th>\n",
              "      <th>imdb_score</th>\n",
              "      <th>aspect_ratio</th>\n",
              "      <th>movie_facebook_likes</th>\n",
              "      <th>Profit</th>\n",
              "      <th>Profit_Percentage</th>\n",
              "    </tr>\n",
              "  </thead>\n",
              "  <tbody>\n",
              "    <tr>\n",
              "      <th>0</th>\n",
              "      <td>James Cameron</td>\n",
              "      <td>723.0</td>\n",
              "      <td>178.0</td>\n",
              "      <td>0.0</td>\n",
              "      <td>855.0</td>\n",
              "      <td>Joel David Moore</td>\n",
              "      <td>1000</td>\n",
              "      <td>760505847.0</td>\n",
              "      <td>Action|Adventure|Fantasy|Sci-Fi</td>\n",
              "      <td>CCH Pounder</td>\n",
              "      <td>Avatar</td>\n",
              "      <td>886204</td>\n",
              "      <td>4834</td>\n",
              "      <td>Wes Studi</td>\n",
              "      <td>0.0</td>\n",
              "      <td>avatar|future|marine|native|paraplegic</td>\n",
              "      <td>3054.0</td>\n",
              "      <td>PG-13</td>\n",
              "      <td>237000000.0</td>\n",
              "      <td>2009</td>\n",
              "      <td>936.0</td>\n",
              "      <td>7.9</td>\n",
              "      <td>1.78</td>\n",
              "      <td>33000.0</td>\n",
              "      <td>-523505847.0</td>\n",
              "      <td>-68.836532</td>\n",
              "    </tr>\n",
              "    <tr>\n",
              "      <th>1</th>\n",
              "      <td>Gore Verbinski</td>\n",
              "      <td>302.0</td>\n",
              "      <td>169.0</td>\n",
              "      <td>563.0</td>\n",
              "      <td>1000.0</td>\n",
              "      <td>Orlando Bloom</td>\n",
              "      <td>40000</td>\n",
              "      <td>309404152.0</td>\n",
              "      <td>Action|Adventure|Fantasy</td>\n",
              "      <td>Johnny Depp</td>\n",
              "      <td>Pirates of the Caribbean: At World's End</td>\n",
              "      <td>471220</td>\n",
              "      <td>48350</td>\n",
              "      <td>Jack Davenport</td>\n",
              "      <td>0.0</td>\n",
              "      <td>goddess|marriage ceremony|marriage proposal|pi...</td>\n",
              "      <td>1238.0</td>\n",
              "      <td>PG-13</td>\n",
              "      <td>300000000.0</td>\n",
              "      <td>2007</td>\n",
              "      <td>5000.0</td>\n",
              "      <td>7.1</td>\n",
              "      <td>2.35</td>\n",
              "      <td>0.0</td>\n",
              "      <td>-9404152.0</td>\n",
              "      <td>-3.039439</td>\n",
              "    </tr>\n",
              "    <tr>\n",
              "      <th>2</th>\n",
              "      <td>Sam Mendes</td>\n",
              "      <td>602.0</td>\n",
              "      <td>148.0</td>\n",
              "      <td>0.0</td>\n",
              "      <td>161.0</td>\n",
              "      <td>Rory Kinnear</td>\n",
              "      <td>11000</td>\n",
              "      <td>200074175.0</td>\n",
              "      <td>Action|Adventure|Thriller</td>\n",
              "      <td>Christoph Waltz</td>\n",
              "      <td>Spectre</td>\n",
              "      <td>275868</td>\n",
              "      <td>11700</td>\n",
              "      <td>Stephanie Sigman</td>\n",
              "      <td>1.0</td>\n",
              "      <td>bomb|espionage|sequel|spy|terrorist</td>\n",
              "      <td>994.0</td>\n",
              "      <td>PG-13</td>\n",
              "      <td>245000000.0</td>\n",
              "      <td>2015</td>\n",
              "      <td>393.0</td>\n",
              "      <td>6.8</td>\n",
              "      <td>2.35</td>\n",
              "      <td>85000.0</td>\n",
              "      <td>44925825.0</td>\n",
              "      <td>22.454585</td>\n",
              "    </tr>\n",
              "    <tr>\n",
              "      <th>3</th>\n",
              "      <td>Christopher Nolan</td>\n",
              "      <td>813.0</td>\n",
              "      <td>164.0</td>\n",
              "      <td>22000.0</td>\n",
              "      <td>23000.0</td>\n",
              "      <td>Christian Bale</td>\n",
              "      <td>27000</td>\n",
              "      <td>448130642.0</td>\n",
              "      <td>Action|Thriller</td>\n",
              "      <td>Tom Hardy</td>\n",
              "      <td>The Dark Knight Rises</td>\n",
              "      <td>1144337</td>\n",
              "      <td>106759</td>\n",
              "      <td>Joseph Gordon-Levitt</td>\n",
              "      <td>0.0</td>\n",
              "      <td>deception|imprisonment|lawlessness|police offi...</td>\n",
              "      <td>2701.0</td>\n",
              "      <td>PG-13</td>\n",
              "      <td>250000000.0</td>\n",
              "      <td>2012</td>\n",
              "      <td>23000.0</td>\n",
              "      <td>8.5</td>\n",
              "      <td>2.35</td>\n",
              "      <td>164000.0</td>\n",
              "      <td>-198130642.0</td>\n",
              "      <td>-44.212697</td>\n",
              "    </tr>\n",
              "    <tr>\n",
              "      <th>5</th>\n",
              "      <td>Andrew Stanton</td>\n",
              "      <td>462.0</td>\n",
              "      <td>132.0</td>\n",
              "      <td>475.0</td>\n",
              "      <td>530.0</td>\n",
              "      <td>Samantha Morton</td>\n",
              "      <td>640</td>\n",
              "      <td>73058679.0</td>\n",
              "      <td>Action|Adventure|Sci-Fi</td>\n",
              "      <td>Daryl Sabara</td>\n",
              "      <td>John Carter</td>\n",
              "      <td>212204</td>\n",
              "      <td>1873</td>\n",
              "      <td>Polly Walker</td>\n",
              "      <td>1.0</td>\n",
              "      <td>alien|american civil war|male nipple|mars|prin...</td>\n",
              "      <td>738.0</td>\n",
              "      <td>PG-13</td>\n",
              "      <td>263700000.0</td>\n",
              "      <td>2012</td>\n",
              "      <td>632.0</td>\n",
              "      <td>6.6</td>\n",
              "      <td>2.35</td>\n",
              "      <td>24000.0</td>\n",
              "      <td>190641321.0</td>\n",
              "      <td>260.942743</td>\n",
              "    </tr>\n",
              "  </tbody>\n",
              "</table>\n",
              "</div>"
            ],
            "text/plain": [
              "       director_name  num_critic_for_reviews  ...       Profit  Profit_Percentage\n",
              "0      James Cameron                   723.0  ... -523505847.0         -68.836532\n",
              "1     Gore Verbinski                   302.0  ...   -9404152.0          -3.039439\n",
              "2         Sam Mendes                   602.0  ...   44925825.0          22.454585\n",
              "3  Christopher Nolan                   813.0  ... -198130642.0         -44.212697\n",
              "5     Andrew Stanton                   462.0  ...  190641321.0         260.942743\n",
              "\n",
              "[5 rows x 26 columns]"
            ]
          },
          "metadata": {
            "tags": []
          },
          "execution_count": 39
        }
      ]
    },
    {
      "cell_type": "code",
      "metadata": {
        "id": "WmN2z_qVqFlh",
        "colab_type": "code",
        "colab": {}
      },
      "source": [
        "# Criando um novo arquivo CSV para o dataFrame Manipulado :D !!\n",
        "filmes.to_csv('dados_imdl_analise_expl.csv', index=False)"
      ],
      "execution_count": 0,
      "outputs": []
    },
    {
      "cell_type": "markdown",
      "metadata": {
        "id": "tEYUhl3hq3lr",
        "colab_type": "text"
      },
      "source": [
        "# Visualização dos Dados com Gráfico :D"
      ]
    },
    {
      "cell_type": "code",
      "metadata": {
        "id": "Aiina5X6qrFL",
        "colab_type": "code",
        "outputId": "4b53d74d-ebbf-46f5-b3a1-211f1d5f763e",
        "colab": {
          "base_uri": "https://localhost:8080/",
          "height": 466
        }
      },
      "source": [
        "ggplot(aes(x='imdb_score', y='Profit'), data=filmes) +\\\n",
        "geom_line() +\\\n",
        "stat_smooth(color='blue', span=1)"
      ],
      "execution_count": 0,
      "outputs": [
        {
          "output_type": "display_data",
          "data": {
            "image/png": "[encoded data removed]",
            "text/plain": [
              "<Figure size 640x480 with 1 Axes>"
            ]
          },
          "metadata": {
            "tags": []
          }
        },
        {
          "output_type": "execute_result",
          "data": {
            "text/plain": [
              "<ggplot: (8782530582946)>"
            ]
          },
          "metadata": {
            "tags": []
          },
          "execution_count": 41
        }
      ]
    },
    {
      "cell_type": "code",
      "metadata": {
        "id": "B2OOfmZGriv0",
        "colab_type": "code",
        "outputId": "03fff7cd-3101-4092-fc7f-0ca71a3e1277",
        "colab": {
          "base_uri": "https://localhost:8080/",
          "height": 491
        }
      },
      "source": [
        "ggplot(filmes) +\\\n",
        "       aes(x='imdb_score', y='movie_facebook_likes') +\\\n",
        "       geom_line() +\\\n",
        "       labs(title='Nota no IMDB vs Likes no Facebook do filme', x='Nota IMDB', y='Likes no Facebook')"
      ],
      "execution_count": 0,
      "outputs": [
        {
          "output_type": "display_data",
          "data": {
            "image/png": "[encoded data removed]",
            "text/plain": [
              "<Figure size 640x480 with 1 Axes>"
            ]
          },
          "metadata": {
            "tags": []
          }
        },
        {
          "output_type": "execute_result",
          "data": {
            "text/plain": [
              "<ggplot: (8782530534173)>"
            ]
          },
          "metadata": {
            "tags": []
          },
          "execution_count": 42
        }
      ]
    },
    {
      "cell_type": "markdown",
      "metadata": {
        "id": "iZMDPzibs_I9",
        "colab_type": "text"
      },
      "source": [
        "# Curiosidade adicional\n",
        "Gerando um gráfico correlacionando a nota dos filmes no IMDB com o nome dos atores principais dos 20 primeiros filmes"
      ]
    },
    {
      "cell_type": "code",
      "metadata": {
        "id": "pEK3HXPnr-Zt",
        "colab_type": "code",
        "outputId": "8de0c5b6-0093-4368-c892-5f93c1b2bdce",
        "colab": {
          "base_uri": "https://localhost:8080/",
          "height": 585
        }
      },
      "source": [
        "plt.figure(figsize=(10,8))\n",
        "\n",
        "filmes = filmes.sort_values(by='imdb_score', ascending=False)\n",
        "notas_vs_atores_principais = filmes.head(20)  # Pegando os 20 primeiros filmes\n",
        "ax = sns.pointplot(notas_vs_atores_principais['actor_1_name'], notas_vs_atores_principais['imdb_score'],\n",
        "                   hue=notas_vs_atores_principais['movie_title'])\n",
        "ax.set_xticklabels(ax.get_xticklabels(), rotation=40, ha='right')\n",
        "plt.tight_layout()\n",
        "plt.show()"
      ],
      "execution_count": 0,
      "outputs": [
        {
          "output_type": "display_data",
          "data": {
            "image/png": "[encoded data removed]",
            "text/plain": [
              "<Figure size 720x576 with 1 Axes>"
            ]
          },
          "metadata": {
            "tags": [],
            "needs_background": "light"
          }
        }
      ]
    },
    {
      "cell_type": "markdown",
      "metadata": {
        "id": "wy0I8DzkvWdc",
        "colab_type": "text"
      },
      "source": [
        "----"
      ]
    },
    {
      "cell_type": "markdown",
      "metadata": {
        "id": "uB9lkOWxu17B",
        "colab_type": "text"
      },
      "source": [
        "# Chega de gráfico por hora vamos continuar a limpeza dos dados\n"
      ]
    },
    {
      "cell_type": "code",
      "metadata": {
        "id": "U6aezHDcuA2H",
        "colab_type": "code",
        "colab": {}
      },
      "source": [
        "# Removendo colunas que futuramente não serão utilizadas (nome_diretor, nome_atores, nome_filme, palavras_chave)\n",
        "filmes.drop(columns=['director_name', 'actor_1_name', 'actor_2_name', 'actor_3_name',\n",
        "                     'plot_keywords', 'movie_title'], axis=1, inplace=True)"
      ],
      "execution_count": 0,
      "outputs": []
    },
    {
      "cell_type": "code",
      "metadata": {
        "id": "EBopv1_jvvlA",
        "colab_type": "code",
        "outputId": "a34f0dc8-42a8-47bd-f13d-378d11b88c61",
        "colab": {
          "base_uri": "https://localhost:8080/",
          "height": 235
        }
      },
      "source": [
        "# Verificando a distribuição de valores na coluna de generos\n",
        "filmes['genres'].value_counts()"
      ],
      "execution_count": 0,
      "outputs": [
        {
          "output_type": "execute_result",
          "data": {
            "text/plain": [
              "Comedy                                                   107\n",
              "Comedy|Romance                                           106\n",
              "Comedy|Drama|Romance                                      96\n",
              "Drama                                                     73\n",
              "Drama|Romance                                             73\n",
              "                                                        ... \n",
              "Crime|Drama|Sport                                          1\n",
              "Adventure|Crime|Drama|Mystery|Thriller                     1\n",
              "Action|Adventure|Drama|Romance|Thriller                    1\n",
              "Action|Adventure|Comedy|Family|Fantasy|Mystery|Sci-Fi      1\n",
              "Action|Adventure|Drama|Romance|Western                     1\n",
              "Name: genres, Length: 695, dtype: int64"
            ]
          },
          "metadata": {
            "tags": []
          },
          "execution_count": 45
        }
      ]
    },
    {
      "cell_type": "code",
      "metadata": {
        "id": "lYwfqhKavzr2",
        "colab_type": "code",
        "colab": {}
      },
      "source": [
        "# Removendo coluna de gêneros da tabela\n",
        "filmes.drop('genres', axis=1, inplace=True)"
      ],
      "execution_count": 0,
      "outputs": []
    },
    {
      "cell_type": "code",
      "metadata": {
        "id": "34iAPYEmwP5D",
        "colab_type": "code",
        "colab": {}
      },
      "source": [
        "# Removendo colunas criadas Profit (lucro) e Profit_Percentage (Porcentagem de lucro)\n",
        "filmes.drop(columns=['Profit', 'Profit_Percentage'], axis=1, inplace=True)"
      ],
      "execution_count": 0,
      "outputs": []
    },
    {
      "cell_type": "code",
      "metadata": {
        "id": "__moflWVxhvH",
        "colab_type": "code",
        "outputId": "da05ff52-d871-44bc-9e80-f4c741620e99",
        "colab": {
          "base_uri": "https://localhost:8080/",
          "height": 524
        }
      },
      "source": [
        "# Importando biblioteca\n",
        "import numpy as np\n",
        "\n",
        "# Vamos verificar como as colunas restantes estão correlacionadas usando um mapa de calor com \"corr\" do pandas\n",
        "corr = filmes.corr()\n",
        "sns.set_context(\"notebook\", font_scale=1.0, rc={'lines.linewidth':2.5})\n",
        "plt.figure(figsize=(13,7))\n",
        "\n",
        "# Criando uma mascara, nos permitindo ver apenas a correlação dos valores\n",
        "mask = np.zeros_like(corr)\n",
        "mask[np.triu_indices_from(mask, 1)] = True\n",
        "a = sns.heatmap(corr, mask=mask, annot=True, fmt='.2f')\n",
        "\n",
        "# Rotacionando legendas inferiores\n",
        "rotx = a.set_xticklabels(a.get_xticklabels(), rotation=40, ha='right')\n"
      ],
      "execution_count": 0,
      "outputs": [
        {
          "output_type": "display_data",
          "data": {
            "image/png": "[encoded data removed]",
            "text/plain": [
              "<Figure size 936x504 with 2 Axes>"
            ]
          },
          "metadata": {
            "tags": [],
            "needs_background": "light"
          }
        }
      ]
    },
    {
      "cell_type": "code",
      "metadata": {
        "id": "5_Rk1yFCy7xx",
        "colab_type": "code",
        "colab": {}
      },
      "source": [
        "# Substituindo as variaveis dos atores por uma só de likes dos atores\n",
        "filmes['Others_actors_facebook_likes']=filmes['actor_2_facebook_likes'] + filmes['actor_3_facebook_likes']"
      ],
      "execution_count": 0,
      "outputs": []
    },
    {
      "cell_type": "code",
      "metadata": {
        "id": "sewoIBoP2ZBp",
        "colab_type": "code",
        "colab": {}
      },
      "source": [
        "# Removendo o numero de likes do ator 2 e 3 e o numero de likes do facebook\n",
        "filmes.drop(columns=['actor_2_facebook_likes', 'actor_3_facebook_likes',\n",
        "                     'cast_total_facebook_likes'], axis=1, inplace=True)"
      ],
      "execution_count": 0,
      "outputs": []
    },
    {
      "cell_type": "code",
      "metadata": {
        "id": "vhKPiRYW20Fc",
        "colab_type": "code",
        "colab": {}
      },
      "source": [
        "# Criando uma nova coluna que é uma razão entre o numero de review e o numero de usuarios por review\n",
        "filmes['critic_review_ratio'] = filmes['num_critic_for_reviews']/filmes['num_user_for_reviews']"
      ],
      "execution_count": 0,
      "outputs": []
    },
    {
      "cell_type": "code",
      "metadata": {
        "id": "rpWTQnEt3gcl",
        "colab_type": "code",
        "colab": {}
      },
      "source": [
        "# Removendo variaveis do numero de usuarios por review e o numero de reviews\n",
        "filmes.drop(columns=['num_user_for_reviews', 'num_critic_for_reviews'], axis=1, inplace=True)"
      ],
      "execution_count": 0,
      "outputs": []
    },
    {
      "cell_type": "code",
      "metadata": {
        "id": "_WKkVBue30eX",
        "colab_type": "code",
        "outputId": "f7ec28cc-4dfc-445a-d135-0485473d0183",
        "colab": {
          "base_uri": "https://localhost:8080/",
          "height": 538
        }
      },
      "source": [
        "# Vamos verificar novamente se ainda existem a correlação dos dados que sobraram\n",
        "\n",
        "corr = filmes.corr()\n",
        "sns.set_context(\"notebook\", font_scale=1.0, rc={'lines.linewidth':2.5})\n",
        "plt.figure(figsize=(13,7))\n",
        "\n",
        "# Criando uma mascara, nos permitindo ver apenas a correlação dos valores\n",
        "mask = np.zeros_like(corr)\n",
        "mask[np.triu_indices_from(mask, 1)] = True\n",
        "a = sns.heatmap(corr, mask=mask, annot=True, fmt='.2f')\n",
        "\n",
        "# Rotacionando legendas inferiores\n",
        "rotx = a.set_xticklabels(a.get_xticklabels(), rotation=40, ha='right')"
      ],
      "execution_count": 0,
      "outputs": [
        {
          "output_type": "display_data",
          "data": {
            "image/png": "[encoded data removed]",
            "text/plain": [
              "<Figure size 936x504 with 2 Axes>"
            ]
          },
          "metadata": {
            "tags": [],
            "needs_background": "light"
          }
        }
      ]
    },
    {
      "cell_type": "markdown",
      "metadata": {
        "id": "Zyfb__9B4S1F",
        "colab_type": "text"
      },
      "source": [
        "Os dados estão bem abaixo de 0.65 então podemos continuar"
      ]
    },
    {
      "cell_type": "code",
      "metadata": {
        "id": "y8hGLFNf4JLG",
        "colab_type": "code",
        "colab": {}
      },
      "source": [
        "# Transformando em categorias as notas do filme (ruim, medio, bom, excelente)-> (1,2,3,4)\n",
        "filmes['imdb_binned_score']= pd.cut(filmes['imdb_score'], bins=[0,4,6,8,10], right=True, labels=False)+1"
      ],
      "execution_count": 0,
      "outputs": []
    },
    {
      "cell_type": "code",
      "metadata": {
        "id": "NGHt-6U14t2N",
        "colab_type": "code",
        "outputId": "5b25f75d-cadc-4918-b0ea-4f396da82838",
        "colab": {
          "base_uri": "https://localhost:8080/",
          "height": 235
        }
      },
      "source": [
        "# Visualizando como ficou a coluna de notas categorizadas criada (imdb_binned_score)\n",
        "filmes.head()"
      ],
      "execution_count": 0,
      "outputs": [
        {
          "output_type": "execute_result",
          "data": {
            "text/html": [
              "<div>\n",
              "<style scoped>\n",
              "    .dataframe tbody tr th:only-of-type {\n",
              "        vertical-align: middle;\n",
              "    }\n",
              "\n",
              "    .dataframe tbody tr th {\n",
              "        vertical-align: top;\n",
              "    }\n",
              "\n",
              "    .dataframe thead th {\n",
              "        text-align: right;\n",
              "    }\n",
              "</style>\n",
              "<table border=\"1\" class=\"dataframe\">\n",
              "  <thead>\n",
              "    <tr style=\"text-align: right;\">\n",
              "      <th></th>\n",
              "      <th>duration</th>\n",
              "      <th>director_facebook_likes</th>\n",
              "      <th>actor_1_facebook_likes</th>\n",
              "      <th>gross</th>\n",
              "      <th>num_voted_users</th>\n",
              "      <th>facenumber_in_poster</th>\n",
              "      <th>content_rating</th>\n",
              "      <th>budget</th>\n",
              "      <th>title_year</th>\n",
              "      <th>imdb_score</th>\n",
              "      <th>aspect_ratio</th>\n",
              "      <th>movie_facebook_likes</th>\n",
              "      <th>Others_actors_facebook_likes</th>\n",
              "      <th>critic_review_ratio</th>\n",
              "      <th>imdb_binned_score</th>\n",
              "    </tr>\n",
              "  </thead>\n",
              "  <tbody>\n",
              "    <tr>\n",
              "      <th>2765</th>\n",
              "      <td>65.0</td>\n",
              "      <td>0.0</td>\n",
              "      <td>770</td>\n",
              "      <td>39608295.5</td>\n",
              "      <td>10</td>\n",
              "      <td>2.0</td>\n",
              "      <td>Sem Classificação</td>\n",
              "      <td>35000000.0</td>\n",
              "      <td>--</td>\n",
              "      <td>9.5</td>\n",
              "      <td>1.33</td>\n",
              "      <td>0.0</td>\n",
              "      <td>355.0</td>\n",
              "      <td>0.654462</td>\n",
              "      <td>4</td>\n",
              "    </tr>\n",
              "    <tr>\n",
              "      <th>1937</th>\n",
              "      <td>142.0</td>\n",
              "      <td>0.0</td>\n",
              "      <td>11000</td>\n",
              "      <td>28341469.0</td>\n",
              "      <td>1689764</td>\n",
              "      <td>0.0</td>\n",
              "      <td>R</td>\n",
              "      <td>25000000.0</td>\n",
              "      <td>1994</td>\n",
              "      <td>9.3</td>\n",
              "      <td>1.85</td>\n",
              "      <td>108000.0</td>\n",
              "      <td>1206.0</td>\n",
              "      <td>0.048021</td>\n",
              "      <td>4</td>\n",
              "    </tr>\n",
              "    <tr>\n",
              "      <th>2837</th>\n",
              "      <td>220.0</td>\n",
              "      <td>0.0</td>\n",
              "      <td>22000</td>\n",
              "      <td>57300000.0</td>\n",
              "      <td>790926</td>\n",
              "      <td>1.0</td>\n",
              "      <td>R</td>\n",
              "      <td>13000000.0</td>\n",
              "      <td>1974</td>\n",
              "      <td>9.0</td>\n",
              "      <td>1.85</td>\n",
              "      <td>14000.0</td>\n",
              "      <td>17000.0</td>\n",
              "      <td>0.229231</td>\n",
              "      <td>4</td>\n",
              "    </tr>\n",
              "    <tr>\n",
              "      <th>66</th>\n",
              "      <td>152.0</td>\n",
              "      <td>22000.0</td>\n",
              "      <td>23000</td>\n",
              "      <td>533316061.0</td>\n",
              "      <td>1676169</td>\n",
              "      <td>0.0</td>\n",
              "      <td>PG-13</td>\n",
              "      <td>185000000.0</td>\n",
              "      <td>2008</td>\n",
              "      <td>9.0</td>\n",
              "      <td>2.35</td>\n",
              "      <td>37000.0</td>\n",
              "      <td>24000.0</td>\n",
              "      <td>0.138204</td>\n",
              "      <td>4</td>\n",
              "    </tr>\n",
              "    <tr>\n",
              "      <th>339</th>\n",
              "      <td>192.0</td>\n",
              "      <td>0.0</td>\n",
              "      <td>5000</td>\n",
              "      <td>377019252.0</td>\n",
              "      <td>1215718</td>\n",
              "      <td>2.0</td>\n",
              "      <td>PG-13</td>\n",
              "      <td>94000000.0</td>\n",
              "      <td>2003</td>\n",
              "      <td>8.9</td>\n",
              "      <td>2.35</td>\n",
              "      <td>16000.0</td>\n",
              "      <td>1273.0</td>\n",
              "      <td>0.102854</td>\n",
              "      <td>4</td>\n",
              "    </tr>\n",
              "  </tbody>\n",
              "</table>\n",
              "</div>"
            ],
            "text/plain": [
              "      duration  director_facebook_likes  ...  critic_review_ratio  imdb_binned_score\n",
              "2765      65.0                      0.0  ...             0.654462                  4\n",
              "1937     142.0                      0.0  ...             0.048021                  4\n",
              "2837     220.0                      0.0  ...             0.229231                  4\n",
              "66       152.0                  22000.0  ...             0.138204                  4\n",
              "339      192.0                      0.0  ...             0.102854                  4\n",
              "\n",
              "[5 rows x 15 columns]"
            ]
          },
          "metadata": {
            "tags": []
          },
          "execution_count": 71
        }
      ]
    },
    {
      "cell_type": "code",
      "metadata": {
        "id": "kehjJecB40V6",
        "colab_type": "code",
        "colab": {}
      },
      "source": [
        "# Convertendo a categoria do filme (que esta de forma textual) para forma numerica\n",
        "filmes = pd.get_dummies(data = filmes, columns=['content_rating'], prefix=['content_rating'], drop_first=True)"
      ],
      "execution_count": 0,
      "outputs": []
    },
    {
      "cell_type": "code",
      "metadata": {
        "id": "E2u5tLu_5R6d",
        "colab_type": "code",
        "outputId": "fa7a1c23-ec66-4079-d864-61ae7aef6bd4",
        "colab": {
          "base_uri": "https://localhost:8080/",
          "height": 235
        }
      },
      "source": [
        "# Visualizando como ficou a coluna de categorização de classificação indicativa\n",
        "filmes.head()"
      ],
      "execution_count": 0,
      "outputs": [
        {
          "output_type": "execute_result",
          "data": {
            "text/html": [
              "<div>\n",
              "<style scoped>\n",
              "    .dataframe tbody tr th:only-of-type {\n",
              "        vertical-align: middle;\n",
              "    }\n",
              "\n",
              "    .dataframe tbody tr th {\n",
              "        vertical-align: top;\n",
              "    }\n",
              "\n",
              "    .dataframe thead th {\n",
              "        text-align: right;\n",
              "    }\n",
              "</style>\n",
              "<table border=\"1\" class=\"dataframe\">\n",
              "  <thead>\n",
              "    <tr style=\"text-align: right;\">\n",
              "      <th></th>\n",
              "      <th>duration</th>\n",
              "      <th>director_facebook_likes</th>\n",
              "      <th>actor_1_facebook_likes</th>\n",
              "      <th>gross</th>\n",
              "      <th>num_voted_users</th>\n",
              "      <th>facenumber_in_poster</th>\n",
              "      <th>budget</th>\n",
              "      <th>title_year</th>\n",
              "      <th>imdb_score</th>\n",
              "      <th>aspect_ratio</th>\n",
              "      <th>movie_facebook_likes</th>\n",
              "      <th>Others_actors_facebook_likes</th>\n",
              "      <th>critic_review_ratio</th>\n",
              "      <th>imdb_binned_score</th>\n",
              "      <th>content_rating_G</th>\n",
              "      <th>content_rating_GP</th>\n",
              "      <th>content_rating_NC-17</th>\n",
              "      <th>content_rating_Not Rated</th>\n",
              "      <th>content_rating_PG</th>\n",
              "      <th>content_rating_PG-13</th>\n",
              "      <th>content_rating_R</th>\n",
              "      <th>content_rating_Sem Classificação</th>\n",
              "      <th>content_rating_TV-14</th>\n",
              "      <th>content_rating_Unrated</th>\n",
              "      <th>content_rating_X</th>\n",
              "    </tr>\n",
              "  </thead>\n",
              "  <tbody>\n",
              "    <tr>\n",
              "      <th>2765</th>\n",
              "      <td>65.0</td>\n",
              "      <td>0.0</td>\n",
              "      <td>770</td>\n",
              "      <td>39608295.5</td>\n",
              "      <td>10</td>\n",
              "      <td>2.0</td>\n",
              "      <td>35000000.0</td>\n",
              "      <td>--</td>\n",
              "      <td>9.5</td>\n",
              "      <td>1.33</td>\n",
              "      <td>0.0</td>\n",
              "      <td>355.0</td>\n",
              "      <td>0.654462</td>\n",
              "      <td>4</td>\n",
              "      <td>0</td>\n",
              "      <td>0</td>\n",
              "      <td>0</td>\n",
              "      <td>0</td>\n",
              "      <td>0</td>\n",
              "      <td>0</td>\n",
              "      <td>0</td>\n",
              "      <td>1</td>\n",
              "      <td>0</td>\n",
              "      <td>0</td>\n",
              "      <td>0</td>\n",
              "    </tr>\n",
              "    <tr>\n",
              "      <th>1937</th>\n",
              "      <td>142.0</td>\n",
              "      <td>0.0</td>\n",
              "      <td>11000</td>\n",
              "      <td>28341469.0</td>\n",
              "      <td>1689764</td>\n",
              "      <td>0.0</td>\n",
              "      <td>25000000.0</td>\n",
              "      <td>1994</td>\n",
              "      <td>9.3</td>\n",
              "      <td>1.85</td>\n",
              "      <td>108000.0</td>\n",
              "      <td>1206.0</td>\n",
              "      <td>0.048021</td>\n",
              "      <td>4</td>\n",
              "      <td>0</td>\n",
              "      <td>0</td>\n",
              "      <td>0</td>\n",
              "      <td>0</td>\n",
              "      <td>0</td>\n",
              "      <td>0</td>\n",
              "      <td>1</td>\n",
              "      <td>0</td>\n",
              "      <td>0</td>\n",
              "      <td>0</td>\n",
              "      <td>0</td>\n",
              "    </tr>\n",
              "    <tr>\n",
              "      <th>2837</th>\n",
              "      <td>220.0</td>\n",
              "      <td>0.0</td>\n",
              "      <td>22000</td>\n",
              "      <td>57300000.0</td>\n",
              "      <td>790926</td>\n",
              "      <td>1.0</td>\n",
              "      <td>13000000.0</td>\n",
              "      <td>1974</td>\n",
              "      <td>9.0</td>\n",
              "      <td>1.85</td>\n",
              "      <td>14000.0</td>\n",
              "      <td>17000.0</td>\n",
              "      <td>0.229231</td>\n",
              "      <td>4</td>\n",
              "      <td>0</td>\n",
              "      <td>0</td>\n",
              "      <td>0</td>\n",
              "      <td>0</td>\n",
              "      <td>0</td>\n",
              "      <td>0</td>\n",
              "      <td>1</td>\n",
              "      <td>0</td>\n",
              "      <td>0</td>\n",
              "      <td>0</td>\n",
              "      <td>0</td>\n",
              "    </tr>\n",
              "    <tr>\n",
              "      <th>66</th>\n",
              "      <td>152.0</td>\n",
              "      <td>22000.0</td>\n",
              "      <td>23000</td>\n",
              "      <td>533316061.0</td>\n",
              "      <td>1676169</td>\n",
              "      <td>0.0</td>\n",
              "      <td>185000000.0</td>\n",
              "      <td>2008</td>\n",
              "      <td>9.0</td>\n",
              "      <td>2.35</td>\n",
              "      <td>37000.0</td>\n",
              "      <td>24000.0</td>\n",
              "      <td>0.138204</td>\n",
              "      <td>4</td>\n",
              "      <td>0</td>\n",
              "      <td>0</td>\n",
              "      <td>0</td>\n",
              "      <td>0</td>\n",
              "      <td>0</td>\n",
              "      <td>1</td>\n",
              "      <td>0</td>\n",
              "      <td>0</td>\n",
              "      <td>0</td>\n",
              "      <td>0</td>\n",
              "      <td>0</td>\n",
              "    </tr>\n",
              "    <tr>\n",
              "      <th>339</th>\n",
              "      <td>192.0</td>\n",
              "      <td>0.0</td>\n",
              "      <td>5000</td>\n",
              "      <td>377019252.0</td>\n",
              "      <td>1215718</td>\n",
              "      <td>2.0</td>\n",
              "      <td>94000000.0</td>\n",
              "      <td>2003</td>\n",
              "      <td>8.9</td>\n",
              "      <td>2.35</td>\n",
              "      <td>16000.0</td>\n",
              "      <td>1273.0</td>\n",
              "      <td>0.102854</td>\n",
              "      <td>4</td>\n",
              "      <td>0</td>\n",
              "      <td>0</td>\n",
              "      <td>0</td>\n",
              "      <td>0</td>\n",
              "      <td>0</td>\n",
              "      <td>1</td>\n",
              "      <td>0</td>\n",
              "      <td>0</td>\n",
              "      <td>0</td>\n",
              "      <td>0</td>\n",
              "      <td>0</td>\n",
              "    </tr>\n",
              "  </tbody>\n",
              "</table>\n",
              "</div>"
            ],
            "text/plain": [
              "      duration  ...  content_rating_X\n",
              "2765      65.0  ...                 0\n",
              "1937     142.0  ...                 0\n",
              "2837     220.0  ...                 0\n",
              "66       152.0  ...                 0\n",
              "339      192.0  ...                 0\n",
              "\n",
              "[5 rows x 25 columns]"
            ]
          },
          "metadata": {
            "tags": []
          },
          "execution_count": 74
        }
      ]
    },
    {
      "cell_type": "markdown",
      "metadata": {
        "id": "fW6h5VDN5q_7",
        "colab_type": "text"
      },
      "source": [
        "Ele criou uma coluna pra cada classificação indicativa :o"
      ]
    },
    {
      "cell_type": "code",
      "metadata": {
        "id": "nYSGN9Hg5iAe",
        "colab_type": "code",
        "colab": {}
      },
      "source": [
        "# Vamos salvar os dados gerados, para ter um backup das analises feitas\n",
        "filmes.to_csv('dados_imdb_com_nota.csv', index=False)"
      ],
      "execution_count": 0,
      "outputs": []
    },
    {
      "cell_type": "markdown",
      "metadata": {
        "id": "QfG18ED76RTY",
        "colab_type": "text"
      },
      "source": [
        "----"
      ]
    },
    {
      "cell_type": "markdown",
      "metadata": {
        "id": "ugmPUjZU6KqD",
        "colab_type": "text"
      },
      "source": [
        "# Vamos definir as colunas para fazer uma previsão dos dados da pontuação dos filmes no IMDB\n",
        "\n",
        "Vamos primeiro ter que reescrever o nosso dataframe inteiro para que o programa possa fazer sozinho uma previsão de dados"
      ]
    },
    {
      "cell_type": "code",
      "metadata": {
        "id": "bmVZCkey56No",
        "colab_type": "code",
        "colab": {}
      },
      "source": [
        "# Vamos escrever todas as colunas do dataframe que queremos prever\n",
        "X = pd.DataFrame(columns=['duration', 'director_facebook_likes', 'actor_1_facebook_likes',\n",
        "                          'gross', 'num_voted_users', 'facenumber_in_poster', 'budget',\n",
        "                          'aspect_ratio','movie_facebook_likes','Others_actors_facebook_likes',\n",
        "                          'critic_review_ratio', 'content_rating_G','content_rating_GP',\n",
        "                          'content_rating_Sem Classificação', 'content_rating_NC-17','content_rating_Not Rated',\n",
        "                          'content_rating_PG','content_rating_PG-13','content_rating_R',\n",
        "                          'content_rating_TV-14','content_rating_Unrated','content_rating_X'], data=filmes)"
      ],
      "execution_count": 0,
      "outputs": []
    },
    {
      "cell_type": "markdown",
      "metadata": {
        "id": "-DyKzl508BOE",
        "colab_type": "text"
      },
      "source": [
        "O programa vai passar por um aprendizado SUPERVISIONADO, ou seja, ele vai depender de um dataset para prever os valores, e vai aprendendo sozinho com um \"tutor\"(dados do dataset) para ir corringindo os erros feitos pelo programa"
      ]
    },
    {
      "cell_type": "code",
      "metadata": {
        "id": "scHwxHwW7wyJ",
        "colab_type": "code",
        "colab": {}
      },
      "source": [
        "# Definindo os dados que o programa vai aprender para se auto corrigir\n",
        "y = pd.DataFrame(columns=['imdb_binned_score'], data=filmes)"
      ],
      "execution_count": 0,
      "outputs": []
    },
    {
      "cell_type": "markdown",
      "metadata": {
        "id": "m4QhAZhc8uaX",
        "colab_type": "text"
      },
      "source": [
        "Treinamento , Teste e Validação, vamos treinar com um conjunto de dados e escolher o melhor modelo para realizar o calculo de como foi a performance final do modelo"
      ]
    },
    {
      "cell_type": "code",
      "metadata": {
        "id": "zrWteABO8eBF",
        "colab_type": "code",
        "colab": {}
      },
      "source": [
        "# Vamos utilizar o modelo Treino e Teste com sklearn\n",
        "from sklearn.model_selection import train_test_split"
      ],
      "execution_count": 0,
      "outputs": []
    },
    {
      "cell_type": "code",
      "metadata": {
        "id": "vo3a1YQc847D",
        "colab_type": "code",
        "colab": {}
      },
      "source": [
        "# Definido os dados para treinamento e teste (neste caso vamos separar 70% para treinamento e 30% para o teste)\n",
        "X_train, X_test, Y_train, Y_test = train_test_split(X, y, test_size=0.3, random_state=42)"
      ],
      "execution_count": 0,
      "outputs": []
    },
    {
      "cell_type": "markdown",
      "metadata": {
        "id": "6OaWn--a9d8B",
        "colab_type": "text"
      },
      "source": [
        "Precisamos normalizar os dados, pois os valores são muito diferentes entre si, e isso pode atrapalhar o modelo a se reajustar quando ele realiza um erro de previsão\n",
        "\n",
        "Isso deve ser feito para os dados de treinamento e de teste, pois isso pode atrapalhar a auto-correção do modelo\n",
        "\n",
        "Levando mais tempo para chegar a uma resposta correta"
      ]
    },
    {
      "cell_type": "code",
      "metadata": {
        "id": "RDHHEq3A9Oed",
        "colab_type": "code",
        "colab": {}
      },
      "source": [
        "# Normalizando os dados\n",
        "from sklearn.preprocessing import StandardScaler\n",
        "\n",
        "sc_X = StandardScaler() #Inicializando o construtor e aplcando o normalizador\n",
        "\n",
        "# aplicando o construtor no conjunto de treinamento\n",
        "X_train = sc_X.fit_transform(X_train) # Realizando o calculo de quais modificaçõs devem ser feitas\n",
        "X_test = sc_X.transform(X_test) # Aplicando as transformações no conjunto de testes"
      ],
      "execution_count": 0,
      "outputs": []
    },
    {
      "cell_type": "markdown",
      "metadata": {
        "id": "vxMvAFx1-0Cz",
        "colab_type": "text"
      },
      "source": [
        "O programa gerou um aviso falando que houve uma divisãi invalida.\n",
        "\n",
        "Provavelmente existe algum valor faltante no DataFrame, vamos verificar"
      ]
    },
    {
      "cell_type": "code",
      "metadata": {
        "id": "Yw6McdtJ-Ud1",
        "colab_type": "code",
        "outputId": "261c709f-8a34-4725-ad15-7cad9cac42b6",
        "colab": {
          "base_uri": "https://localhost:8080/",
          "height": 435
        }
      },
      "source": [
        "X.isna().sum()"
      ],
      "execution_count": 0,
      "outputs": [
        {
          "output_type": "execute_result",
          "data": {
            "text/plain": [
              "duration                            0\n",
              "director_facebook_likes             0\n",
              "actor_1_facebook_likes              0\n",
              "gross                               0\n",
              "num_voted_users                     0\n",
              "facenumber_in_poster                0\n",
              "budget                              0\n",
              "aspect_ratio                        0\n",
              "movie_facebook_likes                0\n",
              "Others_actors_facebook_likes        0\n",
              "critic_review_ratio                 0\n",
              "content_rating_G                    0\n",
              "content_rating_GP                   0\n",
              "content_rating_Sem Classificação    0\n",
              "content_rating_NC-17                0\n",
              "content_rating_Not Rated            0\n",
              "content_rating_PG                   0\n",
              "content_rating_PG-13                0\n",
              "content_rating_R                    0\n",
              "content_rating_TV-14                0\n",
              "content_rating_Unrated              0\n",
              "content_rating_X                    0\n",
              "dtype: int64"
            ]
          },
          "metadata": {
            "tags": []
          },
          "execution_count": 123
        }
      ]
    },
    {
      "cell_type": "markdown",
      "metadata": {
        "id": "DVq9TNF2BXlO",
        "colab_type": "text"
      },
      "source": [
        "Os valores faltantes eram erros de digitação nos nomes das colunas, só precisamos corrigir ;D\n",
        "\n",
        "Vamos utilizar um modelo de **Regressão Logistica**: Ele tenta descobrir um função matematica que simule a distribuição dos dados que temos."
      ]
    },
    {
      "cell_type": "markdown",
      "metadata": {
        "id": "yPSJ3lxiC6e5",
        "colab_type": "text"
      },
      "source": [
        "Deixo o programa ter uma consulta dos dados para poder ir treinando até chegar ao resultado correto\n",
        "\n",
        "Seleciona os dados escolhidos e ajusta dentro da regressão\n",
        "\n",
        "predict retorna os valores previstos pelo programa\n",
        "\n",
        " Verbose nos permite ver o que o programa esta fazendo no treinamento\n",
        "\n",
        " Definindo o modelo de regressao logistica"
      ]
    },
    {
      "cell_type": "code",
      "metadata": {
        "id": "eY6iql0f_H1R",
        "colab_type": "code",
        "outputId": "277f29a9-331e-4b93-9217-724ba7544ffd",
        "colab": {
          "base_uri": "https://localhost:8080/",
          "height": 54
        }
      },
      "source": [
        "# Importando biblioteca para o uso deste modelo\n",
        "from sklearn.linear_model import LogisticRegression\n",
        "logit = LogisticRegression(verbose=1, max_iter=1000)\n",
        "logit.fit(X_train, np.ravel(Y_train, order='C'))\n",
        "Y_pred = logit.predict(X_test)"
      ],
      "execution_count": 0,
      "outputs": [
        {
          "output_type": "stream",
          "text": [
            "[Parallel(n_jobs=1)]: Using backend SequentialBackend with 1 concurrent workers.\n",
            "[Parallel(n_jobs=1)]: Done   1 out of   1 | elapsed:    0.1s finished\n"
          ],
          "name": "stderr"
        }
      ]
    },
    {
      "cell_type": "code",
      "metadata": {
        "id": "P5mMmWYfB1Ti",
        "colab_type": "code",
        "outputId": "cbc3b1d3-a676-43b0-fb47-7526395390b7",
        "colab": {
          "base_uri": "https://localhost:8080/",
          "height": 763
        }
      },
      "source": [
        "# Valores preditos pelo programa\n",
        "Y_pred"
      ],
      "execution_count": 0,
      "outputs": [
        {
          "output_type": "execute_result",
          "data": {
            "text/plain": [
              "array([3, 3, 2, 3, 3, 3, 2, 3, 3, 3, 3, 2, 3, 3, 3, 3, 2, 2, 4, 3, 2, 3,\n",
              "       3, 3, 3, 2, 3, 3, 2, 2, 3, 3, 3, 3, 2, 3, 2, 3, 2, 3, 2, 2, 2, 3,\n",
              "       2, 2, 3, 2, 2, 3, 2, 4, 3, 3, 3, 3, 3, 2, 3, 3, 3, 3, 2, 3, 2, 3,\n",
              "       3, 3, 3, 3, 3, 2, 3, 3, 3, 3, 3, 3, 3, 2, 4, 3, 3, 3, 3, 3, 3, 3,\n",
              "       2, 3, 3, 2, 3, 3, 3, 3, 3, 2, 3, 3, 2, 3, 3, 3, 3, 3, 3, 3, 2, 2,\n",
              "       3, 2, 2, 3, 3, 3, 2, 2, 2, 3, 3, 3, 3, 2, 3, 3, 2, 3, 3, 3, 3, 3,\n",
              "       2, 3, 3, 3, 3, 3, 3, 3, 2, 3, 2, 3, 3, 3, 2, 2, 3, 3, 3, 3, 2, 3,\n",
              "       3, 2, 3, 2, 3, 2, 3, 3, 4, 3, 3, 3, 3, 3, 2, 3, 2, 2, 3, 3, 2, 3,\n",
              "       3, 3, 3, 3, 3, 2, 3, 3, 2, 4, 2, 3, 3, 3, 2, 3, 3, 3, 3, 3, 3, 2,\n",
              "       2, 3, 3, 3, 3, 3, 3, 2, 3, 2, 3, 4, 3, 3, 3, 2, 3, 2, 2, 2, 3, 3,\n",
              "       2, 3, 2, 3, 3, 3, 3, 3, 3, 3, 3, 2, 3, 3, 3, 3, 3, 4, 2, 3, 3, 3,\n",
              "       2, 2, 3, 3, 3, 3, 2, 3, 3, 3, 3, 2, 3, 3, 2, 3, 3, 3, 3, 2, 2, 2,\n",
              "       3, 3, 3, 3, 3, 3, 2, 3, 3, 3, 3, 2, 3, 2, 3, 3, 3, 3, 3, 3, 2, 3,\n",
              "       2, 3, 3, 2, 3, 3, 3, 2, 3, 3, 3, 2, 2, 3, 2, 2, 2, 3, 3, 3, 3, 3,\n",
              "       2, 2, 3, 3, 3, 3, 3, 2, 3, 3, 3, 3, 2, 3, 3, 3, 2, 2, 3, 4, 2, 3,\n",
              "       3, 2, 3, 2, 3, 3, 3, 2, 3, 3, 3, 2, 2, 3, 3, 3, 3, 3, 2, 2, 3, 4,\n",
              "       3, 2, 2, 2, 3, 3, 3, 3, 3, 4, 3, 3, 3, 3, 3, 2, 3, 3, 2, 2, 3, 3,\n",
              "       2, 3, 3, 3, 2, 3, 2, 2, 2, 3, 2, 3, 2, 3, 4, 2, 2, 4, 3, 3, 3, 3,\n",
              "       3, 3, 3, 4, 3, 3, 2, 3, 3, 3, 2, 2, 3, 2, 3, 3, 3, 3, 3, 3, 2, 3,\n",
              "       2, 3, 3, 3, 3, 2, 2, 3, 3, 3, 2, 3, 3, 2, 2, 3, 3, 3, 2, 3, 3, 3,\n",
              "       3, 3, 3, 3, 3, 2, 3, 3, 3, 2, 3, 3, 3, 3, 3, 3, 3, 3, 2, 2, 2, 2,\n",
              "       3, 3, 3, 3, 3, 2, 2, 2, 3, 3, 3, 3, 3, 2, 3, 3, 3, 2, 3, 3, 3, 3,\n",
              "       3, 3, 2, 3, 3, 3, 3, 2, 3, 3, 3, 2, 3, 3, 3, 2, 3, 3, 3, 3, 3, 2,\n",
              "       2, 3, 3, 2, 3, 3, 3, 3, 3, 3, 2, 3, 3, 2, 3, 3, 3, 2, 3, 3, 3, 3,\n",
              "       2, 3, 3, 2, 2, 2, 4, 3, 3, 2, 3, 2, 3, 3, 3, 3, 3, 3, 2, 3, 3, 2,\n",
              "       2, 2, 3, 3, 3, 2, 3, 3, 1, 3, 2, 3, 2, 3, 3, 2, 3, 3, 3, 2, 2, 3,\n",
              "       2, 3, 3, 2, 3, 3, 3, 4, 3, 3, 3, 3, 3, 2, 3, 2, 2, 3, 2, 2, 3, 3,\n",
              "       2, 3, 2, 2, 2, 3, 3, 3, 3, 2, 3, 2, 2, 3, 3, 3, 2, 3, 3, 2, 2, 3,\n",
              "       3, 3, 3, 3, 2, 3, 3, 3, 3, 3, 3, 3, 2, 2, 3, 2, 2, 3, 3, 3, 2, 3,\n",
              "       3, 3, 2, 3, 3, 2, 3, 2, 2, 3, 3, 3, 3, 3, 2, 3, 3, 3, 2, 3, 3, 3,\n",
              "       3, 3, 3, 3, 3, 2, 2, 3, 2, 3, 2, 3, 3, 3, 3, 3, 2, 2, 3, 3, 2, 2,\n",
              "       3, 4, 3, 3, 3, 2, 3, 3, 3, 3, 3, 3, 3, 3, 2, 3, 2, 3, 3, 3, 2, 3,\n",
              "       2, 2, 3, 3, 2, 2, 2, 2, 3, 3, 2, 2, 2, 4, 2, 2, 2, 3, 3, 2, 3, 2,\n",
              "       3, 2, 2, 2, 3, 2, 2, 2, 2, 4, 3, 2, 3, 3, 3, 3, 3, 3, 3, 3, 3, 3,\n",
              "       2, 3, 3, 3, 3, 3, 2, 3, 3, 3, 1, 2, 3, 2, 3, 3, 3, 3, 3, 3, 2, 2,\n",
              "       3, 3, 3, 3, 3, 3, 2, 3, 2, 3, 3, 2, 3, 3, 3, 2, 2, 3, 3, 3, 3, 3,\n",
              "       3, 3, 2, 3, 3, 3, 3, 3, 3, 2, 3, 2, 3, 3, 3, 3, 3, 3, 3, 2, 2, 3,\n",
              "       3, 3, 3, 2, 3, 3, 2, 3, 3, 3, 2, 2, 3, 3, 3, 3, 3, 3, 3, 3, 3, 2,\n",
              "       4, 2, 2, 3, 4, 3, 3, 3, 3, 3, 3, 3, 3, 2, 2, 4, 3, 2, 3, 2, 3, 3,\n",
              "       3, 3, 3, 3, 3, 3, 3, 2, 2, 2, 3, 3, 3, 3, 3, 2, 3, 3, 3, 3, 2, 3,\n",
              "       3, 3, 3, 3, 3, 3, 3, 3, 3])"
            ]
          },
          "metadata": {
            "tags": []
          },
          "execution_count": 126
        }
      ]
    },
    {
      "cell_type": "code",
      "metadata": {
        "id": "sltaLtt-FxbA",
        "colab_type": "code",
        "colab": {}
      },
      "source": [
        "# Vamos calcular as metricas e visualizar se a previsão do programa esta correta\n",
        "# Vamos calcular a matriz de confusão\n",
        "\n",
        "from sklearn import metrics\n",
        "\n",
        "cnf_matrix = metrics.confusion_matrix(Y_test, Y_pred)"
      ],
      "execution_count": 0,
      "outputs": []
    },
    {
      "cell_type": "code",
      "metadata": {
        "id": "37nJpxdUGVWt",
        "colab_type": "code",
        "colab": {}
      },
      "source": [
        "# Vamos imprimir esta matriz de um jeitinho mais bonito\n",
        "\n",
        "# Função: Gera a matriz confusão em um gráfico\n",
        "import itertools\n",
        "def plot_confusion_matrix(cm, classes,\n",
        "                          normalize = False,\n",
        "                          title=\"Matriz de Confusão\",\n",
        "                          cmap=plt.cm.Blues):\n",
        "  if normalize:\n",
        "    cm = cm.astype('float') / cm.sum(axis=1)[: ,np.newaxis]\n",
        "\n",
        "  plt.imshow(cm, interpolation='nearest', cmap=cmap)\n",
        "  plt.title(title)\n",
        "  plt.colorbar()\n",
        "  tick_marks = np.arange(len(classes))\n",
        "  plt.xticks(tick_marks, classes, rotation=45)\n",
        "  plt.yticks(tick_marks, classes)\n",
        "\n",
        "  fmt = '.2f' if normalize else 'd'\n",
        "  thresh = cm.max() / 2.\n",
        "  for i, j in itertools.product(range(cm.shape[0]), range(cm.shape[1])):\n",
        "    plt.text(j, i, format(cm[i, j], fmt),\n",
        "    horizontalalignment=\"center\",\n",
        "    color='white' if cm[i, j] > thresh else 'black')\n",
        "\n",
        "  plt.ylabel('True label')\n",
        "  plt.xlabel('Predcted label')\n",
        "  plt.tight_layout()\n"
      ],
      "execution_count": 0,
      "outputs": []
    },
    {
      "cell_type": "code",
      "metadata": {
        "id": "iqSqQfAtILqI",
        "colab_type": "code",
        "outputId": "ab8c58fe-9ed9-4762-a0a8-15ecb3fa33fc",
        "colab": {
          "base_uri": "https://localhost:8080/",
          "height": 293
        }
      },
      "source": [
        "# Chamando a função de plotagem da matriz confusão passando parametros definidos anteriormente\n",
        "plot_confusion_matrix(cnf_matrix, classes=['1', '2', '3', '4'], title='Matriz de Confusão não normalizada', normalize=False)"
      ],
      "execution_count": 0,
      "outputs": [
        {
          "output_type": "display_data",
          "data": {
            "image/png": "[encoded data removed]",
            "text/plain": [
              "<Figure size 432x288 with 2 Axes>"
            ]
          },
          "metadata": {
            "tags": [],
            "needs_background": "light"
          }
        }
      ]
    },
    {
      "cell_type": "markdown",
      "metadata": {
        "id": "Vr0XiY8sJbob",
        "colab_type": "text"
      },
      "source": [
        "O programa tem mais facilidade de prever os filmes melhor classificados:\n",
        "pode ser porque a quantidade de valores nesta coluna é maior, logo ele tem mais valores para aprender e os erros das outras classes acabam não importando tanto"
      ]
    },
    {
      "cell_type": "code",
      "metadata": {
        "id": "LtE-68dSJFhg",
        "colab_type": "code",
        "outputId": "2246fcc3-5d2e-4239-cbf9-5305c26c6bab",
        "colab": {
          "base_uri": "https://localhost:8080/",
          "height": 108
        }
      },
      "source": [
        "# Vamos verificar se esse dados são verdadeiros\n",
        "filmes['imdb_binned_score'].value_counts()\n"
      ],
      "execution_count": 0,
      "outputs": [
        {
          "output_type": "execute_result",
          "data": {
            "text/plain": [
              "3    1870\n",
              "2     896\n",
              "4     118\n",
              "1      78\n",
              "Name: imdb_binned_score, dtype: int64"
            ]
          },
          "metadata": {
            "tags": []
          },
          "execution_count": 137
        }
      ]
    },
    {
      "cell_type": "code",
      "metadata": {
        "id": "vlN3nAtaJ8cA",
        "colab_type": "code",
        "outputId": "c1787fd1-12e7-4239-a23b-7b5e24faaea9",
        "colab": {
          "base_uri": "https://localhost:8080/",
          "height": 217
        }
      },
      "source": [
        "# Vamos calculas valores além da matriz confusão\n",
        "print(metrics.classification_report(Y_test, Y_pred, target_names=['1', '2', '3' ,'4']))"
      ],
      "execution_count": 0,
      "outputs": [
        {
          "output_type": "stream",
          "text": [
            "              precision    recall  f1-score   support\n",
            "\n",
            "           1       0.00      0.00      0.00        24\n",
            "           2       0.60      0.58      0.59       266\n",
            "           3       0.78      0.83      0.81       568\n",
            "           4       0.76      0.52      0.62        31\n",
            "\n",
            "    accuracy                           0.73       889\n",
            "   macro avg       0.54      0.48      0.50       889\n",
            "weighted avg       0.70      0.73      0.71       889\n",
            "\n"
          ],
          "name": "stdout"
        }
      ]
    },
    {
      "cell_type": "markdown",
      "metadata": {
        "id": "To5wtFI6KdCl",
        "colab_type": "text"
      },
      "source": [
        "support mostra o numero de amostras:\n",
        "\n",
        "### indice\n",
        "1- filmes ruins <br>\n",
        "2- filmes medios<br>\n",
        "3 - filmes bons<br>\n",
        "4- filmes excelentes<br>\n",
        "\n",
        "------\n",
        "\n",
        "A classe com mais amostras é a classe dos filmes bons, refletindo na previsão feita pelo programa na matriz de confusão"
      ]
    },
    {
      "cell_type": "code",
      "metadata": {
        "id": "H1dcQsapKZHZ",
        "colab_type": "code",
        "colab": {}
      },
      "source": [
        "# vamos salvar o modelo treinado com machine learning\n",
        "\n",
        "import pickle"
      ],
      "execution_count": 0,
      "outputs": []
    },
    {
      "cell_type": "code",
      "metadata": {
        "id": "y-mBz6P1LHAz",
        "colab_type": "code",
        "colab": {}
      },
      "source": [
        "modelo_treinado = 'modelo_imdb.sav'"
      ],
      "execution_count": 0,
      "outputs": []
    },
    {
      "cell_type": "code",
      "metadata": {
        "id": "jU7b1NTOLL01",
        "colab_type": "code",
        "colab": {}
      },
      "source": [
        "pickle.dump(logit, open(modelo_treinado, 'wb'))"
      ],
      "execution_count": 0,
      "outputs": []
    },
    {
      "cell_type": "code",
      "metadata": {
        "id": "ExkbTrjdLVz-",
        "colab_type": "code",
        "colab": {}
      },
      "source": [
        "# Como saber se este modelo é o modelo treinado?"
      ],
      "execution_count": 0,
      "outputs": []
    },
    {
      "cell_type": "code",
      "metadata": {
        "id": "Be6kTNL5Lak4",
        "colab_type": "code",
        "colab": {}
      },
      "source": [
        "modelo_carregado = pickle.load(open(modelo_treinado, 'rb'))"
      ],
      "execution_count": 0,
      "outputs": []
    },
    {
      "cell_type": "code",
      "metadata": {
        "id": "sshv7ZCPLllx",
        "colab_type": "code",
        "outputId": "2cae26b9-5ad3-48c8-f2ac-c3b752a3e18d",
        "colab": {
          "base_uri": "https://localhost:8080/",
          "height": 108
        }
      },
      "source": [
        "# Podemos fazer inferencias no modelo com informações novas ou não (mostrar ao modelo novos dados)\n",
        "#Primeiro conjunto de dados do primeiro x teste\n",
        "X_test[0]"
      ],
      "execution_count": 0,
      "outputs": [
        {
          "output_type": "execute_result",
          "data": {
            "text/plain": [
              "array([-0.15104959, -0.04429111, -0.43716117, -0.02203083, -0.22332328,\n",
              "       -0.19587641, -0.08806482,  0.77980286, -0.41974137, -0.35682072,\n",
              "       -0.156889  , -0.17412091, -0.02196874, -0.12321199, -0.02196874,\n",
              "       -0.05820816, -0.4607393 , -0.78871143,  1.25888364,  0.        ,\n",
              "       -0.0622422 , -0.02196874])"
            ]
          },
          "metadata": {
            "tags": []
          },
          "execution_count": 144
        }
      ]
    },
    {
      "cell_type": "code",
      "metadata": {
        "id": "yerb5-mgMAow",
        "colab_type": "code",
        "outputId": "7bbaac29-108b-4c7f-f5d6-e0825f72bbb7",
        "colab": {
          "base_uri": "https://localhost:8080/",
          "height": 35
        }
      },
      "source": [
        "# Vamos fazer um predict em cima da variavel x_test\n",
        "\n",
        "modelo_carregado.predict([X_test[0]])"
      ],
      "execution_count": 0,
      "outputs": [
        {
          "output_type": "execute_result",
          "data": {
            "text/plain": [
              "array([3])"
            ]
          },
          "metadata": {
            "tags": []
          },
          "execution_count": 147
        }
      ]
    },
    {
      "cell_type": "markdown",
      "metadata": {
        "id": "NjJDfsLEMREt",
        "colab_type": "text"
      },
      "source": [
        "Os filmes desse valores são do tipo 3 (bons)"
      ]
    },
    {
      "cell_type": "code",
      "metadata": {
        "id": "n5di4m1JMIv8",
        "colab_type": "code",
        "colab": {}
      },
      "source": [
        ""
      ],
      "execution_count": 0,
      "outputs": []
    }
  ]
}